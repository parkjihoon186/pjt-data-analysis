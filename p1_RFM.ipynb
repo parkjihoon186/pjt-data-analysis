{
 "cells": [
  {
   "cell_type": "markdown",
   "id": "3d10b2b9",
   "metadata": {},
   "source": [
    "배송문제 인가?\n",
    "\n",
    "상품문제 인가 ?\n",
    "\n",
    "고객 서비스문제 인가 ?"
   ]
  },
  {
   "cell_type": "markdown",
   "id": "dfd5389a",
   "metadata": {},
   "source": [
    "# 데이터 불러오기 "
   ]
  },
  {
   "cell_type": "code",
   "execution_count": 26,
   "id": "11a84734",
   "metadata": {},
   "outputs": [
    {
     "name": "stdout",
     "output_type": "stream",
     "text": [
      "CSV 로드 성공\n",
      "결측치 제거 완료\n",
      "<class 'pandas.core.frame.DataFrame'>\n",
      "RangeIndex: 99441 entries, 0 to 99440\n",
      "Data columns (total 5 columns):\n",
      " #   Column                    Non-Null Count  Dtype \n",
      "---  ------                    --------------  ----- \n",
      " 0   customer_id               99441 non-null  object\n",
      " 1   customer_unique_id        99441 non-null  object\n",
      " 2   customer_zip_code_prefix  99441 non-null  int64 \n",
      " 3   customer_city             99441 non-null  object\n",
      " 4   customer_state            99441 non-null  object\n",
      "dtypes: int64(1), object(4)\n",
      "memory usage: 3.8+ MB\n",
      "None\n",
      "                        customer_id                customer_unique_id  \\\n",
      "0  06b8999e2fba1a1fbc88172c00ba8bc7  861eff4711a542e4b93843c6dd7febb0   \n",
      "1  18955e83d337fd6b2def6b18a428ac77  290c77bc529b7ac935b93aa66c333dc3   \n",
      "2  4e7b3e00288586ebd08712fdd0374a03  060e732b5b29e8181a18229c7b0b2b5e   \n",
      "3  b2b6027bc5c5109e529d4dc6358b12c3  259dac757896d24d7702b9acbbff3f3c   \n",
      "4  4f2d8ab171c80ec8364f7c12e35b23ad  345ecd01c38d18a9036ed96c73b8d066   \n",
      "\n",
      "   customer_zip_code_prefix          customer_city customer_state  \n",
      "0                     14409                 franca             SP  \n",
      "1                      9790  sao bernardo do campo             SP  \n",
      "2                      1151              sao paulo             SP  \n",
      "3                      8775        mogi das cruzes             SP  \n",
      "4                     13056               campinas             SP  \n"
     ]
    }
   ],
   "source": [
    "import pandas as pd\n",
    "\n",
    "# 1. CSV 파일 경로\n",
    "file_path = 'olist_customers_dataset.csv'  # 실제 파일명/경로로 수정\n",
    "\n",
    "# 2. CSV 파일 로드\n",
    "try:\n",
    "    df = pd.read_csv(file_path)\n",
    "    print(\"CSV 로드 성공\")\n",
    "except FileNotFoundError:\n",
    "    print(\"파일을 찾을 수 없습니다. 경로를 확인하세요.\")\n",
    "\n",
    "# 3. 결측치 제거\n",
    "# 모든 컬럼 기준으로 결측치가 있는 행 제거\n",
    "df = df.dropna()\n",
    "print(\"결측치 제거 완료\")\n",
    "\n",
    "# 4. 데이터 확인\n",
    "print(df.info())\n",
    "print(df.head())\n"
   ]
  },
  {
   "cell_type": "markdown",
   "id": "251ef6be",
   "metadata": {},
   "source": [
    "결측값 확인 "
   ]
  },
  {
   "cell_type": "code",
   "execution_count": 27,
   "id": "29881e3c",
   "metadata": {},
   "outputs": [
    {
     "data": {
      "text/plain": [
       "customer_id                 0\n",
       "customer_unique_id          0\n",
       "customer_zip_code_prefix    0\n",
       "customer_city               0\n",
       "customer_state              0\n",
       "dtype: int64"
      ]
     },
     "execution_count": 27,
     "metadata": {},
     "output_type": "execute_result"
    }
   ],
   "source": [
    "data.isnull().sum()"
   ]
  },
  {
   "cell_type": "code",
   "execution_count": 28,
   "id": "d52bac56",
   "metadata": {},
   "outputs": [
    {
     "name": "stdout",
     "output_type": "stream",
     "text": [
      "주문 횟수 기본 통계치:\n",
      " count    96096.000000\n",
      "mean         1.034809\n",
      "std          0.214384\n",
      "min          1.000000\n",
      "25%          1.000000\n",
      "50%          1.000000\n",
      "75%          1.000000\n",
      "max         17.000000\n",
      "Name: order_count, dtype: float64\n",
      "\n",
      "주문 횟수 상위 10 고객:\n",
      "                      customer_unique_id  order_count\n",
      "52973  8d50f5eadf50201ccdcedfb9e2ac8455           17\n",
      "23472  3e43e6105506432c953e165fb2acf44c            9\n",
      "10354  1b6c7548a2a1f9037c1fd3ddfed95f33            7\n",
      "37797  6469f99c1f9dfae7733b25662e7f1782            7\n",
      "76082  ca77025e7201e3b30c44b472ff346268            7\n",
      "27043  47c1a3033b8b77b3ab6e109eb4d5fdf3            6\n",
      "7175   12f5d6e1cbf93dafd9dcc19095df0b3d            6\n",
      "37585  63cfc61cee11cbe306bff5857d00bfe4            6\n",
      "82883  dc813062e0fc23409cd255f7f53c7074            6\n",
      "83540  de34b16117594161a6a89c50b289d35a            6\n",
      "\n",
      "주문 횟수 하위 10 고객:\n",
      "                   customer_unique_id  order_count\n",
      "16  000c8bdb58a29e7115cfc257230fb21b            1\n",
      "17  000d460961d6dbfa3ec6c9f5805769e1            1\n",
      "18  000de6019bb59f34c099a907c151d855            1\n",
      "19  000e309254ab1fc5ba99dd469d36bdb4            1\n",
      "20  000ec5bff359e1c0ad76a81a45cb598f            1\n",
      "21  000ed48ceeb6f4bf8ad021a10a3c7b43            1\n",
      "22  000fbf0473c10fc1ab6f8d2d286ce20c            1\n",
      "23  0010a452c6d13139e50b57f19f52e04e            1\n",
      "24  0010fb34b966d44409382af9e8fd5b77            1\n",
      "25  001147e649a7b1afd577e873841632dd            1\n"
     ]
    }
   ],
   "source": [
    "import pandas as pd\n",
    "\n",
    "# CSV 파일 로드\n",
    "df = pd.read_csv('olist_customers_dataset.csv')\n",
    "\n",
    "# 결측치 제거\n",
    "df_cleaned = df.dropna()\n",
    "\n",
    "# 고객별 주문 횟수 집계\n",
    "customer_orders = df_cleaned.groupby('customer_unique_id').size().reset_index(name='order_count')\n",
    "\n",
    "# 기본 통계치 확인\n",
    "stats = customer_orders['order_count'].describe()\n",
    "print(\"주문 횟수 기본 통계치:\\n\", stats)\n",
    "\n",
    "# 상위 10명 주문 많은 고객\n",
    "top_customers = customer_orders.sort_values(by='order_count', ascending=False).head(10)\n",
    "print(\"\\n주문 횟수 상위 10 고객:\\n\", top_customers)\n",
    "\n",
    "# 하위 10명 주문 적은 고객\n",
    "bottom_customers = customer_orders.sort_values(by='order_count', ascending=True).head(10)\n",
    "print(\"\\n주문 횟수 하위 10 고객:\\n\", bottom_customers)\n"
   ]
  },
  {
   "cell_type": "markdown",
   "id": "34767eae",
   "metadata": {},
   "source": [
    "상위고객이 6~17회까지 반복구매함 6~10회는 분포상높음 17은 확실히 이상치 있음 "
   ]
  },
  {
   "cell_type": "markdown",
   "id": "1a2ac248",
   "metadata": {},
   "source": [
    "# 그럼 이상치 제거 해야겠지 "
   ]
  },
  {
   "cell_type": "code",
   "execution_count": 29,
   "id": "3420a9fe",
   "metadata": {},
   "outputs": [
    {
     "name": "stdout",
     "output_type": "stream",
     "text": [
      "                     customer_unique_id  order_count\n",
      "33     00172711b30d52eea8b313a7f2cced02            2\n",
      "106    004288347e5e88a27ded2bb23747066c            2\n",
      "124    004b45ec5c64187465168251cd1c9c2f            2\n",
      "144    0058f300f57d7b93c477a131a59b36c3            2\n",
      "249    00a39521eb40f7012db50455bf083460            2\n",
      "...                                 ...          ...\n",
      "95784  ff36be26206fffe1eb37afd54c70e18b            3\n",
      "95810  ff44401d0d8f5b9c54a47374eb48c1b8            2\n",
      "95916  ff8892f7c26aa0446da53d01b18df463            2\n",
      "95934  ff922bdd6bafcdf99cb90d7f39cea5b3            3\n",
      "96050  ffe254cc039740e17dd15a5305035928            2\n",
      "\n",
      "[2997 rows x 2 columns]\n"
     ]
    }
   ],
   "source": [
    "Q1 = customer_orders['order_count'].quantile(0.25)\n",
    "Q3 = customer_orders['order_count'].quantile(0.75)\n",
    "IQR = Q3 - Q1\n",
    "upper_bound = Q3 + 1.5 * IQR\n",
    "lower_bound = Q1 - 1.5 * IQR\n",
    "\n",
    "outliers = customer_orders[(customer_orders['order_count'] > upper_bound) | \n",
    "                           (customer_orders['order_count'] < lower_bound)]\n",
    "print(outliers)\n"
   ]
  },
  {
   "cell_type": "markdown",
   "id": "02867ff7",
   "metadata": {},
   "source": [
    "이상치를 제거한값 6~17까지를 제거  "
   ]
  },
  {
   "cell_type": "markdown",
   "id": "21544105",
   "metadata": {},
   "source": [
    "# 파생변수 생성 "
   ]
  },
  {
   "cell_type": "code",
   "execution_count": 48,
   "id": "97b3bfb6",
   "metadata": {},
   "outputs": [
    {
     "name": "stdout",
     "output_type": "stream",
     "text": [
      "                  customer_unique_id  order_count  is_repeat purchase_group  \\\n",
      "0   0000366f3b9a7992bf8c76cfdf3221e2            1      False            Low   \n",
      "1   0000b849f77a49e4a4ce2b2a4ca5be3f            1      False            Low   \n",
      "2   0000f46a3911fa3c0805444483337064            1      False            Low   \n",
      "3   0000f6ccb0745a6a4b88665a16c9f078            1      False            Low   \n",
      "4   0004aac84e0df4da2b147fca70cf8255            1      False            Low   \n",
      "5   0004bd2a26a76fe21f786e4fbd80607f            1      False            Low   \n",
      "6   00050ab1314c0e55a6ca13cf7181fecf            1      False            Low   \n",
      "7   00053a61a98854899e70ed204dd4bafe            1      False            Low   \n",
      "8   0005e1862207bf6ccc02e4228effd9a0            1      False            Low   \n",
      "9   0005ef4cd20d2893f0d9fbd94d3c0d97            1      False            Low   \n",
      "10  0006fdc98a402fceb4eb0ee528f6a8d4            1      False            Low   \n",
      "11  00082cbe03e478190aadbea78542e933            1      False            Low   \n",
      "12  00090324bbad0e9342388303bb71ba0a            1      False            Low   \n",
      "13  000949456b182f53c18b68d6babc79c1            1      False            Low   \n",
      "14  000a5ad9c4601d2bbdd9ed765d5213b3            1      False            Low   \n",
      "15  000bfa1d2f1a41876493be685390d6d3            1      False            Low   \n",
      "16  000c8bdb58a29e7115cfc257230fb21b            1      False            Low   \n",
      "17  000d460961d6dbfa3ec6c9f5805769e1            1      False            Low   \n",
      "18  000de6019bb59f34c099a907c151d855            1      False            Low   \n",
      "19  000e309254ab1fc5ba99dd469d36bdb4            1      False            Low   \n",
      "\n",
      "   customer_score  \n",
      "0              10  \n",
      "1              10  \n",
      "2              10  \n",
      "3              10  \n",
      "4              10  \n",
      "5              10  \n",
      "6              10  \n",
      "7              10  \n",
      "8              10  \n",
      "9              10  \n",
      "10             10  \n",
      "11             10  \n",
      "12             10  \n",
      "13             10  \n",
      "14             10  \n",
      "15             10  \n",
      "16             10  \n",
      "17             10  \n",
      "18             10  \n",
      "19             10  \n",
      "                     customer_unique_id  order_count  is_repeat  \\\n",
      "62961  a7657330b1c135f3acd420326e335b2c            4       True   \n",
      "83540  de34b16117594161a6a89c50b289d35a            6       True   \n",
      "60942  a239b8e2fbce33780f1f1912e2ee5275            4       True   \n",
      "20337  35ecdf6858edc6427223b64804cf028e            5       True   \n",
      "23472  3e43e6105506432c953e165fb2acf44c            9       True   \n",
      "3395   08e5b38d7948d37fbb2a59fc5e175ab1            4       True   \n",
      "14199  25a560b9a6006157838aab1bdbd68624            4       True   \n",
      "69396  b896655e2083a1d76b7b85df8fc86e40            4       True   \n",
      "32664  56c8638e7c058b98aae6d74d2dd6ea23            5       True   \n",
      "69435  b8b3c435a58aebd788a477bed8342910            4       True   \n",
      "7128   12d8b5ed661190a3a08183644dfc504d            4       True   \n",
      "92519  f64ec6d8dd29940264cd0bbb5ecade8a            4       True   \n",
      "67527  b39dde6dd619943190a8cc9aa6db38a4            4       True   \n",
      "17276  2ddc001b620bd90d0f4378cfde1db887            4       True   \n",
      "88848  ec7f1811826ab04a27a92197bc40c888            4       True   \n",
      "60353  a0abd26659c9914690cbd3320d39fd96            4       True   \n",
      "37411  6358b15ef7fa9b1210f1a5735cabd3d9            4       True   \n",
      "21578  394ac4de8f3acb14253c177f0e15bc58            5       True   \n",
      "3130   083ca1aa470c280236380973a48f77c6            4       True   \n",
      "43934  74cb1ad7e6d5674325c1f99b5ea30d82            5       True   \n",
      "\n",
      "      purchase_group customer_score  \n",
      "62961           High            100  \n",
      "83540           High            100  \n",
      "60942           High            100  \n",
      "20337           High            100  \n",
      "23472           High            100  \n",
      "3395            High            100  \n",
      "14199           High            100  \n",
      "69396           High            100  \n",
      "32664           High            100  \n",
      "69435           High            100  \n",
      "7128            High            100  \n",
      "92519           High            100  \n",
      "67527           High            100  \n",
      "17276           High            100  \n",
      "88848           High            100  \n",
      "60353           High            100  \n",
      "37411           High            100  \n",
      "21578           High            100  \n",
      "3130            High            100  \n",
      "43934           High            100  \n"
     ]
    }
   ],
   "source": [
    "import pandas as pd\n",
    "\n",
    "# 1. CSV 불러오기\n",
    "df = pd.read_csv('olist_customers_dataset.csv')\n",
    "\n",
    "# 2. 고객별 주문 횟수 계산 (customer_id 기준)\n",
    "customer_orders = df.groupby('customer_unique_id').size().reset_index(name='order_count')\n",
    "\n",
    "# 3. 재구매 여부 파생 변수\n",
    "customer_orders['is_repeat'] = customer_orders['order_count'] > 1\n",
    "\n",
    "# 4. 구매 그룹 (Low / Medium / High) - cut 사용, 안전하게 구간 지정\n",
    "# 구간 예시: 1회 = Low, 2~3회 = Medium, 4회 이상 = High\n",
    "bins = [0, 1, 3, customer_orders['order_count'].max()]\n",
    "labels = ['Low', 'Medium', 'High']\n",
    "customer_orders['purchase_group'] = pd.cut(customer_orders['order_count'], bins=bins, labels=labels, include_lowest=True)\n",
    "\n",
    "# 5. 고객 점수 (purchase_group 기반)\n",
    "score_map = {'Low':10, 'Medium':50, 'High':100}\n",
    "customer_orders['customer_score'] = customer_orders['purchase_group'].map(score_map)\n",
    "\n",
    "# 6. 결과 확인\n",
    "print(customer_orders.head(20))\n",
    "\n",
    "# 7. 상위 20명 고객 확인 (점수 높은 순)\n",
    "top_customers = customer_orders.sort_values(by='customer_score', ascending=False).head(20)\n",
    "print(top_customers)\n",
    "\n"
   ]
  },
  {
   "cell_type": "markdown",
   "id": "f1ba5f3c",
   "metadata": {},
   "source": [
    "이렇게 나온이유 1회구매자 가 압도적인 수를 보유하고 있기때문으로 추정된다."
   ]
  },
  {
   "cell_type": "markdown",
   "id": "ba5338b7",
   "metadata": {},
   "source": [
    " 지금상태에서 우리가 얻을수있는 정보는 제한적이다. ㅅㅂ "
   ]
  },
  {
   "cell_type": "code",
   "execution_count": 30,
   "id": "4aea0aae",
   "metadata": {},
   "outputs": [
    {
     "data": {
      "text/plain": [
       "np.int64(3345)"
      ]
     },
     "execution_count": 30,
     "metadata": {},
     "output_type": "execute_result"
    }
   ],
   "source": [
    "data['customer_unique_id'].duplicated().sum()"
   ]
  },
  {
   "cell_type": "markdown",
   "id": "fbad8905",
   "metadata": {},
   "source": [
    "상위도시별 고객수"
   ]
  },
  {
   "cell_type": "code",
   "execution_count": 18,
   "id": "38364fbd",
   "metadata": {},
   "outputs": [
    {
     "name": "stdout",
     "output_type": "stream",
     "text": [
      "상위 10개 도시별 고객 수:\n",
      "                      도시   고객 수\n",
      "0              sao paulo  15540\n",
      "1         rio de janeiro   6882\n",
      "2         belo horizonte   2773\n",
      "3               brasilia   2131\n",
      "4               curitiba   1521\n",
      "5               campinas   1444\n",
      "6           porto alegre   1379\n",
      "7               salvador   1245\n",
      "8              guarulhos   1189\n",
      "9  sao bernardo do campo    938\n",
      "------------------------------\n"
     ]
    },
    {
     "name": "stderr",
     "output_type": "stream",
     "text": [
      "C:\\Users\\Public\\Documents\\ESTsoft\\CreatorTemp\\ipykernel_17136\\977232699.py:40: FutureWarning: \n",
      "\n",
      "Passing `palette` without assigning `hue` is deprecated and will be removed in v0.14.0. Assign the `y` variable to `hue` and set `legend=False` for the same effect.\n",
      "\n",
      "  sns.barplot(x=top_10_cities.values, y=top_10_cities.index, palette='viridis')\n"
     ]
    },
    {
     "name": "stdout",
     "output_type": "stream",
     "text": [
      "그래프가 'customer_distribution.png' 파일로 저장되었습니다.\n"
     ]
    },
    {
     "data": {
      "image/png": "[encoded data removed]",
      "text/plain": [
       "<Figure size 1200x800 with 1 Axes>"
      ]
     },
     "metadata": {},
     "output_type": "display_data"
    }
   ],
   "source": [
    "import pandas as pd\n",
    "import matplotlib.pyplot as plt\n",
    "import seaborn as sns\n",
    "\n",
    "# 한글 폰트 설정 (Windows 사용자의 경우)\n",
    "plt.rcParams['font.family'] = 'Malgun Gothic'\n",
    "plt.rcParams['axes.unicode_minus'] = False # 마이너스 기호 깨짐 방지\n",
    "\n",
    "# 1. 데이터 불러오기\n",
    "# 'olist_customers_dataset.csv' 파일을 읽어와 데이터프레임(df)으로 저장합니다.\n",
    "df = pd.read_csv('olist_customers_dataset.csv')\n",
    "\n",
    "# 2. 도시별 고객 수 계산\n",
    "# 'customer_city' 컬럼을 기준으로 각 도시의 고유 고객 수를 계산합니다.\n",
    "# value_counts()는 각 고유값의 개수를 세어주는 유용한 함수입니다.\n",
    "city_counts = df['customer_city'].value_counts()\n",
    "\n",
    "# 3. 상위 10개 도시 데이터 추출 및 CSV로 저장\n",
    "# 계산된 도시별 고객 수에서 가장 많은 상위 10개 도시를 선택합니다.\n",
    "top_10_cities = city_counts.nlargest(10)\n",
    "top_10_cities_df = top_10_cities.reset_index()\n",
    "# 컬럼 이름을 '도시'와 '고객 수'로 명확하게 변경합니다.\n",
    "top_10_cities_df.columns = ['도시', '고객 수']\n",
    "\n",
    "# 결과를 'top_10_cities.csv' 파일로 저장합니다. (인코딩 설정으로 한글 깨짐 방지)\n",
    "top_10_cities_df.to_csv('top_10_cities.csv', index=False, encoding='utf-8-sig')\n",
    "\n",
    "# 4. 데이터 확인\n",
    "print(\"상위 10개 도시별 고객 수:\")\n",
    "print(top_10_cities_df)\n",
    "print(\"-\" * 30)\n",
    "\n",
    "# 5. 시각화: 상위 10개 도시 막대 그래프\n",
    "# 그래프의 크기를 설정하여 시원한 느낌을 줍니다.\n",
    "plt.figure(figsize=(12, 8))\n",
    "\n",
    "# Seaborn의 barplot을 사용하여 막대 그래프를 그립니다.\n",
    "# x축에는 고객 수를, y축에는 도시 이름을 매핑하여 수평 막대 그래프를 만듭니다.\n",
    "# 'viridis'는 데이터의 양을 시각적으로 잘 표현해주는 좋은 컬러 팔레트입니다.\n",
    "sns.barplot(x=top_10_cities.values, y=top_10_cities.index, palette='viridis')\n",
    "\n",
    "# 그래프 제목과 축 레이블 설정\n",
    "plt.title('고객 분포: 상위 10개 도시', fontsize=18, fontweight='bold', pad=20)\n",
    "plt.xlabel('고객 수', fontsize=14)\n",
    "plt.ylabel('도시', fontsize=14)\n",
    "\n",
    "# 각 막대 위에 정확한 고객 수를 텍스트로 표시합니다.\n",
    "for index, value in enumerate(top_10_cities.values):\n",
    "    plt.text(value + 100, index, f'{value}', va='center', fontsize=11, color='black')\n",
    "\n",
    "# Y축의 눈금 라벨이 잘 보이도록 여백을 조정합니다.\n",
    "plt.yticks(fontsize=12)\n",
    "\n",
    "# 그래프 레이아웃을 최적화합니다.\n",
    "plt.tight_layout()\n",
    "\n",
    "# 그래프를 'customer_distribution.png' 파일로 저장합니다.\n",
    "plt.savefig('customer_distribution.png', dpi=300) # 고해상도로 저장\n",
    "print(\"그래프가 'customer_distribution.png' 파일로 저장되었습니다.\")\n",
    "\n",
    "# 최종적으로 그래프를 화면에 보여줍니다.\n",
    "plt.show()"
   ]
  },
  {
   "cell_type": "markdown",
   "id": "5ca5062d",
   "metadata": {},
   "source": [
    "절대고객수는 상파울로우가 높다 "
   ]
  },
  {
   "cell_type": "markdown",
   "id": "d377d40c",
   "metadata": {},
   "source": [
    "# 침투율(다른전략적옵션)"
   ]
  },
  {
   "cell_type": "code",
   "execution_count": 41,
   "id": "6744eb84",
   "metadata": {},
   "outputs": [
    {
     "data": {
      "image/png": "[encoded data removed]",
      "text/plain": [
       "<Figure size 1200x800 with 1 Axes>"
      ]
     },
     "metadata": {},
     "output_type": "display_data"
    }
   ],
   "source": [
    "import pandas as pd\n",
    "import matplotlib.pyplot as plt\n",
    "import seaborn as sns\n",
    "\n",
    "# 한글 폰트 설정\n",
    "plt.rcParams['font.family'] = 'Malgun Gothic'\n",
    "plt.rcParams['axes.unicode_minus'] = False\n",
    "\n",
    "# 1. 데이터 불러오기\n",
    "customers_df = pd.read_csv('olist_customers_dataset.csv')\n",
    "orders_df = pd.read_csv('olist_orders_dataset.csv')\n",
    "\n",
    "# 2. 고객 및 주문 데이터 병합 및 연도 추출\n",
    "merged_df = customers_df.merge(orders_df, on='customer_id')\n",
    "merged_df['order_purchase_year'] = pd.to_datetime(merged_df['order_purchase_timestamp']).dt.year\n",
    "\n",
    "# 3. 주(State)별, 연도별 고유 고객 수 집계\n",
    "customer_counts = merged_df.groupby(['customer_state', 'order_purchase_year']).agg(\n",
    "    unique_customers=('customer_unique_id', 'nunique')\n",
    ").reset_index()\n",
    "\n",
    "# 4. 주요 주(State)의 고객 수 증가 추이 시각화\n",
    "top_5_states = ['SP', 'RJ', 'MG', 'RS', 'PR']\n",
    "filtered_df = customer_counts[customer_counts['customer_state'].isin(top_5_states)]\n",
    "\n",
    "plt.figure(figsize=(12, 8))\n",
    "sns.lineplot(data=filtered_df, x='order_purchase_year', y='unique_customers', hue='customer_state', marker='o', palette='Paired', linewidth=3, markersize=10)\n",
    "plt.title('주요 주(State)별 Olist 고유 고객 수 추이 (2016-2018)', fontsize=18)\n",
    "plt.xlabel('연도', fontsize=14)\n",
    "plt.ylabel('고유 고객 수', fontsize=14)\n",
    "plt.legend(title='주(State)', bbox_to_anchor=(1.05, 1), loc='upper left')\n",
    "plt.grid(axis='y', linestyle='--', alpha=0.7)\n",
    "plt.ylim(bottom=0)\n",
    "plt.tight_layout()\n",
    "plt.show()"
   ]
  },
  {
   "cell_type": "markdown",
   "id": "682f6699",
   "metadata": {},
   "source": [
    "2016년부터 2018년까지 주요 주도시 에서  고객 침투율이 지속적으로 상승하고 있다는 것을 알 수 있습니다. 이는  해당 지역에서 고객 기반을 꾸준히 확장하고 있다는 긍정적인 신호입니다."
   ]
  },
  {
   "cell_type": "markdown",
   "id": "ebec156a",
   "metadata": {},
   "source": [
    "그러므로  저는 상파울로우 의 집중해서 접근하겠습니다"
   ]
  },
  {
   "cell_type": "code",
   "execution_count": 37,
   "id": "12c20f94",
   "metadata": {},
   "outputs": [
    {
     "name": "stdout",
     "output_type": "stream",
     "text": [
      "customer_city\n",
      "sao paulo                15540\n",
      "rio de janeiro            6882\n",
      "belo horizonte            2773\n",
      "brasilia                  2131\n",
      "curitiba                  1521\n",
      "campinas                  1444\n",
      "porto alegre              1379\n",
      "salvador                  1245\n",
      "guarulhos                 1189\n",
      "sao bernardo do campo      938\n"
     ]
    }
   ],
   "source": [
    "# 'customer_city' 컬럼을 기준으로 그룹화하고, 각 그룹의 크기를 계산합니다.\n",
    "city_counts = df.groupby('customer_city').size()\n",
    "\n",
    "# 결과를 내림차순으로 정렬하여 고객 수가 많은 도시부터 확인합니다.\n",
    "sorted_city_counts = city_counts.sort_values(ascending=False)\n",
    "\n",
    "# 상위 10개 도시의 고객 수를 표로 출력\n",
    "print(sorted_city_counts.head(10).to_string())"
   ]
  },
  {
   "cell_type": "markdown",
   "id": "a4d9c574",
   "metadata": {},
   "source": [
    "그래서 쌍파울로우 가 침투력있는가?\n",
    "# 분석결과\n",
    "상파울루는 고객 수도, 침투율은 낮다 : sao paulo의 고객 침투율은 0.135%로, 여전히 높은 편에 속합니다. 이는 단순히 인구만 많은 것이 아니라, 인구 대비 우리 서비스의 고객 비중도 높다는 것을 의미합니다.\n",
    "\n",
    "'sao bernardo do campo'의 놀라운 침투율: sao bernardo do campo는 인구는 적지만, 고객 침투율이 0.115%로 상파울루와 비슷한 수준을 보입니다. 이는 이 지역이 인구 규모에 비해 우리 서비스에 대한 관심이 매우 높거나, 특정 마케팅 전략이 효과적으로 작동했을 가능성을 시사합니다.\n",
    "\n",
    "상대적 효율성 파악: 이처럼 절대적인 고객 수만 보는 것이 아니라, 인구 대비 침투율을 함께 보면 어떤 시장이 더 효율적인지, 어떤 시장이 더 성장 잠재력이 큰지 객관적으로 파악할 수 있습니다.\n",
    "\n",
    "결론: 상파울루의 고객 수가 많은 이유는 인구 규모가 크고, 동시에 시장 침투율도 높기 때문입니다. 그리고 'sao bernardo do campo' 같은 도시들은 숨겨진 잠재력을 가진 시장이 될 수 있습니다."
   ]
  },
  {
   "cell_type": "markdown",
   "id": "0983eaae",
   "metadata": {},
   "source": [
    "# 그 근거 는  무엇인지  상파울로우 중 어디가 가장 고객이 많고 지리적 환경 은 무엇이있을까? \n"
   ]
  },
  {
   "cell_type": "code",
   "execution_count": null,
   "id": "7ea63808",
   "metadata": {},
   "outputs": [
    {
     "name": "stdout",
     "output_type": "stream",
     "text": [
      "      customer_city  customer_zip_code_prefix  customer_count\n",
      "13655     sao paulo                      8290              36\n",
      "12444     sao paulo                      4140              35\n",
      "13142     sao paulo                      5145              33\n",
      "12625     sao paulo                      4363              32\n",
      "12761     sao paulo                      4571              32\n",
      "13499     sao paulo                      5782              31\n",
      "12086     sao paulo                      3572              31\n",
      "13047     sao paulo                      5017              30\n",
      "11034     sao paulo                      1415              29\n",
      "10993     sao paulo                      1307              29\n"
     ]
    }
   ],
   "source": [
    "# ...existing code...\n",
    "# 우편번호와 도시별 고객 수 집계\n",
    "zip_city_group = df.groupby(['customer_city', 'customer_zip_code_prefix']).size().reset_index(name='customer_count')\n",
    "\n",
    "# 상파울루만 필터링\n",
    "sp_zip_city_group = zip_city_group[zip_city_group['customer_city'] == 'sao paulo']\n",
    "\n",
    "# 고객 수가 많은 상위 10개 우편번호 출력 (도시명 포함)\n",
    "top_sp_zip_city = sp_zip_city_group.sort_values(by='customer_count', ascending=False).head(10)\n",
    "print(top_sp_zip_city)\n",
    "# ...existing code..."
   ]
  },
  {
   "cell_type": "markdown",
   "id": "cf42b9ed",
   "metadata": {},
   "source": [
    "  우편번호 08290  으로 시작하는게 Itaquera  임을 알수있다. "
   ]
  },
  {
   "cell_type": "code",
   "execution_count": 16,
   "id": "e031bb06",
   "metadata": {},
   "outputs": [
    {
     "data": {
      "image/png": "[encoded data removed]",
      "text/plain": [
       "<Figure size 700x500 with 1 Axes>"
      ]
     },
     "metadata": {},
     "output_type": "display_data"
    }
   ],
   "source": [
    "# ...existing code...\n",
    "import matplotlib.pyplot as plt\n",
    "\n",
    "labels = ['2000 인구', '2010 인구','2022 인구']\n",
    "values = [201512, 204871,210960]\n",
    "\n",
    "plt.figure(figsize=(7,5))\n",
    "bars = plt.bar(labels, values, color=['red', 'grey'])\n",
    "plt.title('Itaquera 지역 인구 변화')\n",
    "plt.ylabel('명')\n",
    "plt.xticks(rotation=0)\n",
    "\n",
    " #값 표시\n",
    "for bar in bars:\n",
    "    plt.text(bar.get_x() + bar.get_width()/2, bar.get_height(), f'{int(bar.get_height()):,}', ha='center', va='bottom')\n",
    "\n",
    "plt.tight_layout()\n",
    "plt.show()\n",
    "# ...existing code..."
   ]
  },
  {
   "cell_type": "markdown",
   "id": "22ce54c9",
   "metadata": {},
   "source": [
    "2000년대비 2010년에 인구가 늘어났고 2022년도 마찬가지로 2010년대비 늘어났다   2010년 부터 2022년까지 연간 인구 변화율은 0.24% 이다 \n",
    "\n",
    "1. 안정적인 인구 성장과 높은 밀도\n",
    "인구 변화율 (0.24%): 2010년에서 2022년까지의 인구 증가율이 매우 낮습니다. 이는 이타케라가 급격히 성장하는 신도시가 아니라, 이미 발전이 완료되어 인구가 안정기에 접어든 성숙한 지역임을 시사한다.\n",
    "\n"
   ]
  },
  {
   "cell_type": "code",
   "execution_count": null,
   "id": "981e1dda",
   "metadata": {},
   "outputs": [
    {
     "data": {
      "text/plain": [
       "customer_zip_code_prefix\n",
       "1003                      0c1a20644f0dc126c3eaff8dbc1bd12c\n",
       "1004     968f6d2f674977d88a4b445a5117ccd8095e7c124c5c1c...\n",
       "1005     9c84e5193d6ee59b3870e0e4e3a2dad857f0ea1c7f6b9e...\n",
       "1006     d2d4ae284fb74a5b0f0f8af418a64b3f0968690d0565e9...\n",
       "1007     aa1c9c908a46198cf8b8fdc5c80376886b0f5e8ef1a126...\n",
       "                               ...                        \n",
       "99960    e96373fff9632d363f5d96e6f169ef33344abd5603ff53...\n",
       "99965    ee0a41f3ec008b1459efbd99c775e6ea9fc089b0b6a8db...\n",
       "99970                     0528a0a940c7116ccb48fdbb8e80a8ff\n",
       "99980    e49eafd7e69d43b8d86f6b5590fafd023dbb390afed204...\n",
       "99990                     8f846b30f8f56368cd1bf4c89efeed74\n",
       "Name: customer_unique_id, Length: 14994, dtype: object"
      ]
     },
     "execution_count": 50,
     "metadata": {},
     "output_type": "execute_result"
    }
   ],
   "source": [
    "df.groupby('customer_zip_code_prefix')['customer_unique_id'].sum()"
   ]
  },
  {
   "cell_type": "markdown",
   "id": "9bd8893a",
   "metadata": {},
   "source": [
    "단순고객수-주문금액/재구매율 등과 연결해서 구해볼까? "
   ]
  },
  {
   "cell_type": "markdown",
   "id": "b5ac48d9",
   "metadata": {},
   "source": [
    "# 고객별 주문 횟수 "
   ]
  },
  {
   "cell_type": "code",
   "execution_count": null,
   "id": "752962f5",
   "metadata": {},
   "outputs": [
    {
     "data": {
      "text/html": [
       "<div>\n",
       "<style scoped>\n",
       "    .dataframe tbody tr th:only-of-type {\n",
       "        vertical-align: middle;\n",
       "    }\n",
       "\n",
       "    .dataframe tbody tr th {\n",
       "        vertical-align: top;\n",
       "    }\n",
       "\n",
       "    .dataframe thead th {\n",
       "        text-align: right;\n",
       "    }\n",
       "</style>\n",
       "<table border=\"1\" class=\"dataframe\">\n",
       "  <thead>\n",
       "    <tr style=\"text-align: right;\">\n",
       "      <th></th>\n",
       "      <th>customer_unique_id</th>\n",
       "      <th>customer_id</th>\n",
       "    </tr>\n",
       "  </thead>\n",
       "  <tbody>\n",
       "    <tr>\n",
       "      <th>0</th>\n",
       "      <td>0000366f3b9a7992bf8c76cfdf3221e2</td>\n",
       "      <td>1</td>\n",
       "    </tr>\n",
       "    <tr>\n",
       "      <th>1</th>\n",
       "      <td>0000b849f77a49e4a4ce2b2a4ca5be3f</td>\n",
       "      <td>1</td>\n",
       "    </tr>\n",
       "    <tr>\n",
       "      <th>2</th>\n",
       "      <td>0000f46a3911fa3c0805444483337064</td>\n",
       "      <td>1</td>\n",
       "    </tr>\n",
       "    <tr>\n",
       "      <th>3</th>\n",
       "      <td>0000f6ccb0745a6a4b88665a16c9f078</td>\n",
       "      <td>1</td>\n",
       "    </tr>\n",
       "    <tr>\n",
       "      <th>4</th>\n",
       "      <td>0004aac84e0df4da2b147fca70cf8255</td>\n",
       "      <td>1</td>\n",
       "    </tr>\n",
       "  </tbody>\n",
       "</table>\n",
       "</div>"
      ],
      "text/plain": [
       "                 customer_unique_id  customer_id\n",
       "0  0000366f3b9a7992bf8c76cfdf3221e2            1\n",
       "1  0000b849f77a49e4a4ce2b2a4ca5be3f            1\n",
       "2  0000f46a3911fa3c0805444483337064            1\n",
       "3  0000f6ccb0745a6a4b88665a16c9f078            1\n",
       "4  0004aac84e0df4da2b147fca70cf8255            1"
      ]
     },
     "execution_count": 54,
     "metadata": {},
     "output_type": "execute_result"
    }
   ],
   "source": [
    "# 고객별 주문 횟수\n",
    "customer_orders = df.groupby('customer_unique_id')['customer_id'].nunique().reset_index()\n",
    "customer_orders.rename(columns={'order_id':'order_count'}, inplace=True)\n",
    "customer_orders.head()"
   ]
  },
  {
   "cell_type": "markdown",
   "id": "cb038003",
   "metadata": {},
   "source": [
    "이걸 살펴보면  한사람이 이만큼 주문한걸 알수있다. 그게끝이니 그게 시사하는게 뭔데 그것도 안적냐 근거가 부족ㅎ다 "
   ]
  },
  {
   "cell_type": "markdown",
   "id": "7c11604f",
   "metadata": {},
   "source": [
    "# 한계점"
   ]
  },
  {
   "cell_type": "markdown",
   "id": "5e051b80",
   "metadata": {},
   "source": [
    "근데 그다음 구매가격을 알고싶다 하지만 data.info( )를 해도 가격을 얼마나썼는지 어떤상품에 썼는지 알수없는 한계가있다. 왜 칼럼에 없으니깐 "
   ]
  },
  {
   "cell_type": "markdown",
   "id": "cab855b5",
   "metadata": {},
   "source": [
    "# 우회해서 생각하자 "
   ]
  },
  {
   "cell_type": "code",
   "execution_count": 42,
   "id": "0bd60a23",
   "metadata": {},
   "outputs": [],
   "source": [
    "import pandas as pd\n",
    "\n",
    "# 우편번호별 고객 수\n",
    "data = {\n",
    "    'zip_code': [8290, 4140, 5145, 4363, 4571, 5782, 3572, 5017, 1415, 1307],\n",
    "    'customer_count': [36, 35, 33, 32, 32, 31, 31, 30, 29, 29]\n",
    "}\n",
    "\n",
    "zip_df = pd.DataFrame(data)\n",
    "\n",
    "# 예시 인구수 (실제 데이터 필요)\n",
    "zip_population = {\n",
    "    8290: 220000,\n",
    "    4140: 50000,\n",
    "    5145: 60000,\n",
    "    4363: 40000,\n",
    "    4571: 35000,\n",
    "    5782: 30000,\n",
    "    3572: 30000,\n",
    "    5017: 25000,\n",
    "    1415: 20000,\n",
    "    1307: 20000\n",
    "}\n",
    "\n",
    "zip_df['population'] = zip_df['zip_code'].map(zip_population)\n"
   ]
  },
  {
   "cell_type": "markdown",
   "id": "39f1f311",
   "metadata": {},
   "source": [
    "인구대비 고객비율 계산"
   ]
  },
  {
   "cell_type": "code",
   "execution_count": null,
   "id": "55674fbe",
   "metadata": {},
   "outputs": [
    {
     "data": {
      "text/html": [
       "<div>\n",
       "<style scoped>\n",
       "    .dataframe tbody tr th:only-of-type {\n",
       "        vertical-align: middle;\n",
       "    }\n",
       "\n",
       "    .dataframe tbody tr th {\n",
       "        vertical-align: top;\n",
       "    }\n",
       "\n",
       "    .dataframe thead th {\n",
       "        text-align: right;\n",
       "    }\n",
       "</style>\n",
       "<table border=\"1\" class=\"dataframe\">\n",
       "  <thead>\n",
       "    <tr style=\"text-align: right;\">\n",
       "      <th></th>\n",
       "      <th>zip_code</th>\n",
       "      <th>customer_count</th>\n",
       "      <th>population</th>\n",
       "      <th>customer_ratio</th>\n",
       "    </tr>\n",
       "  </thead>\n",
       "  <tbody>\n",
       "    <tr>\n",
       "      <th>9</th>\n",
       "      <td>1307</td>\n",
       "      <td>29</td>\n",
       "      <td>20000</td>\n",
       "      <td>0.001450</td>\n",
       "    </tr>\n",
       "    <tr>\n",
       "      <th>8</th>\n",
       "      <td>1415</td>\n",
       "      <td>29</td>\n",
       "      <td>20000</td>\n",
       "      <td>0.001450</td>\n",
       "    </tr>\n",
       "    <tr>\n",
       "      <th>7</th>\n",
       "      <td>5017</td>\n",
       "      <td>30</td>\n",
       "      <td>25000</td>\n",
       "      <td>0.001200</td>\n",
       "    </tr>\n",
       "    <tr>\n",
       "      <th>5</th>\n",
       "      <td>5782</td>\n",
       "      <td>31</td>\n",
       "      <td>30000</td>\n",
       "      <td>0.001033</td>\n",
       "    </tr>\n",
       "    <tr>\n",
       "      <th>6</th>\n",
       "      <td>3572</td>\n",
       "      <td>31</td>\n",
       "      <td>30000</td>\n",
       "      <td>0.001033</td>\n",
       "    </tr>\n",
       "    <tr>\n",
       "      <th>4</th>\n",
       "      <td>4571</td>\n",
       "      <td>32</td>\n",
       "      <td>35000</td>\n",
       "      <td>0.000914</td>\n",
       "    </tr>\n",
       "    <tr>\n",
       "      <th>3</th>\n",
       "      <td>4363</td>\n",
       "      <td>32</td>\n",
       "      <td>40000</td>\n",
       "      <td>0.000800</td>\n",
       "    </tr>\n",
       "    <tr>\n",
       "      <th>1</th>\n",
       "      <td>4140</td>\n",
       "      <td>35</td>\n",
       "      <td>50000</td>\n",
       "      <td>0.000700</td>\n",
       "    </tr>\n",
       "    <tr>\n",
       "      <th>2</th>\n",
       "      <td>5145</td>\n",
       "      <td>33</td>\n",
       "      <td>60000</td>\n",
       "      <td>0.000550</td>\n",
       "    </tr>\n",
       "    <tr>\n",
       "      <th>0</th>\n",
       "      <td>8290</td>\n",
       "      <td>36</td>\n",
       "      <td>220000</td>\n",
       "      <td>0.000164</td>\n",
       "    </tr>\n",
       "  </tbody>\n",
       "</table>\n",
       "</div>"
      ],
      "text/plain": [
       "   zip_code  customer_count  population  customer_ratio\n",
       "9      1307              29       20000        0.001450\n",
       "8      1415              29       20000        0.001450\n",
       "7      5017              30       25000        0.001200\n",
       "5      5782              31       30000        0.001033\n",
       "6      3572              31       30000        0.001033\n",
       "4      4571              32       35000        0.000914\n",
       "3      4363              32       40000        0.000800\n",
       "1      4140              35       50000        0.000700\n",
       "2      5145              33       60000        0.000550\n",
       "0      8290              36      220000        0.000164"
      ]
     },
     "execution_count": 61,
     "metadata": {},
     "output_type": "execute_result"
    }
   ],
   "source": [
    "zip_df['customer_ratio'] = zip_df['customer_count'] / zip_df['population']\n",
    "zip_df = zip_df.sort_values('customer_ratio', ascending=False)\n",
    "zip_df\n"
   ]
  },
  {
   "cell_type": "code",
   "execution_count": null,
   "id": "b40bcecf",
   "metadata": {},
   "outputs": [
    {
     "data": {
      "text/plain": [
       "customer_zip_code_prefix\n",
       "22790    142\n",
       "24220    124\n",
       "22793    121\n",
       "24230    117\n",
       "22775    110\n",
       "Name: count, dtype: int64"
      ]
     },
     "execution_count": 74,
     "metadata": {},
     "output_type": "execute_result"
    }
   ],
   "source": [
    "# 'customer_zip_code_prefix' 열의 값 분포를 확인하고 상위 5개를 출력\n",
    "df['customer_zip_code_prefix'].value_counts().head()"
   ]
  },
  {
   "cell_type": "code",
   "execution_count": 21,
   "id": "95cb5867",
   "metadata": {},
   "outputs": [
    {
     "data": {
      "text/plain": [
       "array(['niteroi', 'rio de janeiro'], dtype=object)"
      ]
     },
     "execution_count": 21,
     "metadata": {},
     "output_type": "execute_result"
    }
   ],
   "source": [
    "# 상위 5개 우편번호 리스트 생성\n",
    "top_zips = df['customer_zip_code_prefix'].value_counts().head().index\n",
    "\n",
    "# 상위 우편번호에 해당하는 도시 이름 필터링 및 고유값 확인\n",
    "df[df['customer_zip_code_prefix'].isin(top_zips)]['customer_city'].unique()"
   ]
  },
  {
   "cell_type": "markdown",
   "id": "480d2a2d",
   "metadata": {},
   "source": [
    "알수있는점은 침투력이 높은 지역은 9130,8141,7501 등이있다.  지금 까지 도출한 결과 상파울로우는 인구수는 많지만 고객수는 적다는 걸 알수있다 반면 'rio de janeiro 침투력이 높다는걸 알수있다   즉 침투력 측면에서는 다소 상파울로우 가밀린다 하지만 간과할수없는 도시라 생각된다"
   ]
  },
  {
   "cell_type": "markdown",
   "id": "e379362f",
   "metadata": {},
   "source": [
    "# 시각화"
   ]
  },
  {
   "cell_type": "code",
   "execution_count": null,
   "id": "219f1886",
   "metadata": {},
   "outputs": [
    {
     "data": {
      "image/png": "[encoded data removed]",
      "text/plain": [
       "<Figure size 1200x600 with 1 Axes>"
      ]
     },
     "metadata": {},
     "output_type": "display_data"
    }
   ],
   "source": [
    "\n",
    "\n",
    "plt.figure(figsize=(12,6))\n",
    "bars = plt.bar(zip_df['zip_code'].astype(str), zip_df['customer_ratio'], color='skyblue')\n",
    "plt.xlabel('Zip Code')\n",
    "plt.ylabel('Customer Ratio (Customers / Population)')\n",
    "plt.title('Customer Ratio by Zip Code in São Paulo')\n",
    "plt.ylim(0, zip_df['customer_ratio'].max() + 0.005)  # 여유 공간 확보\n",
    "\n",
    "for bar, region in zip(bars, zip_df['region']):\n",
    "    height = bar.get_height()\n",
    "    plt.text(bar.get_x() + bar.get_width()/2, height + 0.0005, region, \n",
    "             ha='center', va='bottom', fontsize=9, rotation=45)\n",
    "\n",
    "plt.show()\n"
   ]
  },
  {
   "cell_type": "markdown",
   "id": "a7a676e9",
   "metadata": {},
   "source": [
    "# 왜 itaquera가 적게 나오냐 ?"
   ]
  },
  {
   "cell_type": "markdown",
   "id": "8f35765b",
   "metadata": {},
   "source": [
    "다른우편번호에 비해 인구가 적어서 비율이 더 낮게 나온다 하지만 절대 고객수는 itaquera가 많다 ."
   ]
  },
  {
   "cell_type": "markdown",
   "id": "56a43fbf",
   "metadata": {},
   "source": [
    "# 절대 고객수로 분석한 결과 "
   ]
  },
  {
   "cell_type": "code",
   "execution_count": null,
   "id": "09fabe95",
   "metadata": {},
   "outputs": [
    {
     "data": {
      "text/plain": [
       "Text(9.0, 0.0006636363636363636, 'Itaquera')"
      ]
     },
     "execution_count": 67,
     "metadata": {},
     "output_type": "execute_result"
    },
    {
     "data": {
      "image/png": "[encoded data removed]",
      "text/plain": [
       "<Figure size 640x480 with 1 Axes>"
      ]
     },
     "metadata": {},
     "output_type": "display_data"
    }
   ],
   "source": [
    "bars = plt.bar(zip_df['zip_code'].astype(str), zip_df['customer_count'], color='skyblue')\n",
    "plt.text(bar.get_x() + bar.get_width()/2, height + 0.0005, region, \n",
    "             ha='center', va='bottom', fontsize=9, rotation=45)\n",
    "\n"
   ]
  },
  {
   "cell_type": "markdown",
   "id": "0f3ba4e1",
   "metadata": {},
   "source": [
    "# 한계점 2 "
   ]
  },
  {
   "cell_type": "markdown",
   "id": "a64b79b6",
   "metadata": {},
   "source": [
    "여기서 한계점 실제 매출, 주문금액, 재구매율 데이터가 없으므로 왜 itaquera가 중요한지 , 얼마나 매출에 기여하는지  이런 결론으로 도출을 못하는 한계점이 있다."
   ]
  },
  {
   "cell_type": "markdown",
   "id": "15803a67",
   "metadata": {},
   "source": [
    "#  이런 이유로 도메인 지식 이 필요하다 "
   ]
  },
  {
   "cell_type": "markdown",
   "id": "a7460c4e",
   "metadata": {},
   "source": [
    "고객이 가장 많은 동네는 ITAQUERA 의  지리적환경및 인프라는 ? "
   ]
  },
  {
   "cell_type": "markdown",
   "id": "7bdf768d",
   "metadata": {},
   "source": [
    "이타케라(Itaquera) — 교통·인프라 요약\n",
    "\n",
    "도로망\n",
    "\n",
    "Avenida Jacu Pêssego/Nova Trabalhadores: 주요 간선도로, 산업·상업 연결 축.\n",
    "\n",
    "Avenida Radial Leste, Avenida Itaquera: 상파울루 동부 주요 연결 도로.\n",
    "\n",
    "Rua Augusto Carlos Baumann, Avenida dos Campanellas, Rua Virginia Ferni: Cohab 주거 지역과 주요 간선도로를 연결.\n",
    "\n",
    "고속도로 확장 계획: Jacu Pêssego 고속도로를 남쪽(산투스 항구, ABC 산업권) ↔ 북쪽(과룰류스) 까지 연결 예정.\n",
    "\n",
    "철도·지하철\n",
    "\n",
    "상파울루 지하철 3호선 (Red Line) → Corinthians-Itaquera 역.\n",
    "\n",
    "CPTM 11호선 (Expresso Leste, Coral Line) → Corinthians-Itaquera 역, Dom Bosco 역.\n",
    "\n",
    "도심 및 동부 산업 지역 접근 용이.\n",
    "\n",
    "버스\n",
    "\n",
    "2개 버스 터미널 보유 → 광역 교통 허브 기능.\n",
    "\n",
    "인프라\n",
    "\n",
    "Shopping Metrô Itaquera (지하철역 인접 상업 중심).\n",
    "\n",
    "Poupatempo 행정 서비스 센터 (주정부 다기능 행정기관).\n",
    "\n",
    "코린치안스 경기장 (2014년 월드컵 개최지).\n",
    "\n",
    "Planetário do Carmo (200석 규모 플라네타리움).\n",
    "\n",
    "Obra Social Dom Bosco (청소년 직업 훈련·복지 서비스).\n",
    "\n",
    "📌 이타케라의 지리적 환경\n",
    "\n",
    "하천·강\n",
    "\n",
    "Rio Jacu 강\n",
    "\n",
    "Rio Aricanduva 강\n",
    "→ 교통·개발 경계 및 자연적 구획 역할.\n",
    "\n",
    "주요 개발 지역\n",
    "\n",
    "Vila Carmosina: 계획 개발 주거지.\n",
    "\n",
    "Colônia Japonesa: 역사적 이민자 거주지.\n",
    "\n",
    "Jardim do Carmo, Parque do Carmo: 녹지·공원 중심 지역.\n",
    "\n",
    "인접 지역(경계 지구)\n",
    "\n",
    "북쪽: São Miguel Paulista, Vila Jacuí\n",
    "\n",
    "동쪽: Lajeado\n",
    "\n",
    "남동쪽: José Bonifácio\n",
    "\n",
    "남쪽: Cidade Líder, Parque do Carmo\n",
    "\n",
    "서쪽: Artur Alvim, Ponte Rasa\n",
    "\n",
    "✅ 정리하면, 이타케라의 강점은 교통 인프라(지하철·철도·고속도로) + 상업·행정 시설 + 대규모 경기장 및 쇼핑몰 + 공원·자연 환경이 결합된 교통·상업·주거 복합 중심지라는 점이다."
   ]
  },
  {
   "cell_type": "markdown",
   "id": "7dc9d621",
   "metadata": {},
   "source": [
    "# 이 인프라를 마케팅 관점에서 생각하면  :이타케라 마케팅 인사이트"
   ]
  },
  {
   "cell_type": "markdown",
   "id": "3acfa8a0",
   "metadata": {},
   "source": [
    "# 1. 교통·유동 인구 기반\n",
    "\n",
    "지하철 3호선 + CPTM 11호선 + 버스 터미널\n",
    "→ 대규모 통근·통학 유동인구 존재.\n",
    "\n",
    " 빠른 소비 아이템: 패스트푸드, 카페, 편의점, 테이크아웃 전문점.\n",
    "\n",
    " 교통 중심 광고: 지하철·버스 쉘터 광고, 옥외 전광판.\n",
    "\n",
    "Jacu Pêssego 고속도로 확장 예정\n",
    "→ 향후 물류·상업 교류 증가 예상.\n",
    "\n",
    "물류창고·배송 거점으로 적합 (이커머스, 택배사, B2B 유통업체).\n",
    "\n",
    "# 2. 상업·소비 중심지\n",
    "\n",
    "Shopping Metrô Itaquera (대형 쇼핑몰)\n",
    "\n",
    "중산층 소비 타겟: 패션, 전자제품, 프랜차이즈 레스토랑.\n",
    "\n",
    " 레저·가족형 콘텐츠: 영화관, 체험형 매장, 키즈존.\n",
    "\n",
    "Poupatempo 행정기관 (대규모 방문자 유입)\n",
    "\n",
    " 공공서비스 이용객 대상 생활편의 서비스 (식당, 은행, 보험, 학원).\n",
    "\n",
    "# 3. 스포츠·문화 자산\n",
    "\n",
    "코린치안스 경기장 (2014 월드컵 개최지)\n",
    "\n",
    " 경기·콘서트·이벤트 방문객 대상 숙박·외식·굿즈 판매.\n",
    "\n",
    " 브랜드 스폰서십·스포츠 마케팅 기회 큼.\n",
    "\n",
    "Planetário do Carmo, Parque do Carmo\n",
    "\n",
    " 여가·교육 콘텐츠 (체험학습, 과학관, 자연 친화 카페).\n",
    "\n",
    "웰니스·헬스케어 산업 (조깅, 피트니스, 헬시푸드).\n",
    "\n",
    "# 4. 주거·지역사회 특성\n",
    "\n",
    "대규모 주거 단지(Cohab) + 전통적 마을(Vila Carmosina, Colônia Japonesa)\n",
    "\n",
    " 지역 상권: 저가·중저가 생활필수품, 식료품, 할인점.\n",
    "\n",
    " 지역밀착형 마케팅: 소셜미디어 커뮤니티, 지역행사 협찬.\n",
    "\n",
    " Obra Social Dom Bosco (청소년 직업훈련)\n",
    "\n",
    " 교육·직업·디지털 기술 관련 업종: 온라인 교육, 자격증 과정, 스타트업 인큐베이션.\n",
    "\n",
    " 종합 포지셔닝\n",
    "\n",
    " 이타케라 = 동부 상파울루의 \"교통·상업·레저 복합 허브\"\n",
    "\n",
    "B2C 소매·외식업: 유동 인구 타겟팅 → 빠른 회전율 전략.\n",
    "\n",
    "B2B 물류·유통업: 도로망 확충 → 거점 확보.\n",
    "\n",
    "문화·스포츠 연계 산업: 경기장·공원·플라네타리움 활용.\n",
    "\n",
    "지역 커뮤니티 기반 서비스: 주거지 중심 → 교육, 생활편의 서비스.\n",
    "\n",
    " 정리하면, 교통 허브 + 쇼핑몰 + 경기장 + 공공기관이 결합된 이타케라는\n",
    "\n",
    "\"대량 소비 & 빠른 회전\" 업종,\n",
    "\n",
    "\"물류·유통 거점\" 산업,\n",
    "\n",
    "\"문화·스포츠 이벤트 기반 비즈니스\"가 가장 유리하다고 판단된다."
   ]
  },
  {
   "cell_type": "markdown",
   "id": "10ab18c0",
   "metadata": {},
   "source": [
    "# 병합  why? customer 데이터로 는 한계가있다."
   ]
  },
  {
   "cell_type": "code",
   "execution_count": 2,
   "id": "e2372ef1",
   "metadata": {},
   "outputs": [
    {
     "name": "stdout",
     "output_type": "stream",
     "text": [
      "=== 전체 우편번호 요약 ===\n",
      "     zip3  total_revenue  unique_customers  repeat_customers\n",
      "103   130      203313.89              1328               114\n",
      "190   227      189455.65              1068               118\n",
      "105   132      175967.95              1115                85\n",
      "107   134      134378.33               905                63\n",
      "238   291      125261.86               784                44\n",
      "84    110      114704.34               680                42\n",
      "187   222      103227.75               598                66\n",
      "175   205      100336.57               555                53\n",
      "173   200       98654.55               228                 1\n",
      "95    122       96823.42               727                64\n",
      "\n",
      "=== Itaquera 상위 고객 ===\n",
      "                                  order_count  total_spent  avg_review\n",
      "customer_unique_id                                                    \n",
      "055ec572ac7f3c7bdd04a183830ebe59            1      1999.99         1.0\n",
      "9509c1d589cc1255e4d19a1dd39d1b87            1      1319.70         1.0\n",
      "a464f750556546a0989d9326ec003ccf            1       849.00         5.0\n",
      "c84c102897b51486e887689a1390cbe6            1       719.97         5.0\n",
      "c8876e76a6699cc5b0fdc20df213283e            1       699.40         4.0\n",
      "e3301490c373db9263c15a73172d0c6f            3       612.67         4.4\n",
      "fb99cfd55992fdd347a3481dfb26c4fa            1       610.00         5.0\n",
      "9d2c9a97437cf840998fdb33171edfe0            1       580.27         3.0\n",
      "6c9cf51494f2dff36066e2b2c05b8c7c            1       560.88         1.0\n",
      "96fab6e511253d619ab79a63c31b29c4            1       540.00         5.0\n"
     ]
    }
   ],
   "source": [
    "import pandas as pd\n",
    "\n",
    "# 1️⃣ 데이터 로드\n",
    "orders_df = pd.read_csv('olist_orders_dataset.csv')\n",
    "order_items = pd.read_csv('olist_order_items_dataset.csv')\n",
    "order_reviews = pd.read_csv('olist_order_reviews_dataset.csv')\n",
    "customers = pd.read_csv('olist_customers_dataset.csv', dtype={'customer_zip_code_prefix': str})\n",
    "\n",
    "# 2️⃣ 데이터 결합\n",
    "orders = orders_df.merge(order_items, on='order_id') \\\n",
    "                 .merge(customers, on='customer_id') \\\n",
    "                 .merge(order_reviews, on='order_id')\n",
    "\n",
    "# 3️⃣ 파생변수 생성\n",
    "orders['zip3'] = orders['customer_zip_code_prefix'].str[:3].astype(int)\n",
    "orders['total_order_value'] = orders['price'] * orders['order_item_id']\n",
    "\n",
    "# 4️⃣ 주문 상태 필터\n",
    "orders_filtered = orders[orders['order_status'] == 'delivered'].copy()\n",
    "\n",
    "# 5️⃣ 지역별 요약 (반복 고객 계산 로직 수정)\n",
    "# 먼저 고객별 주문 횟수를 계산합니다.\n",
    "customer_order_counts = orders_filtered.groupby('customer_unique_id')['order_id'].nunique()\n",
    "\n",
    "# 주문 횟수가 1회 초과인 고객들을 찾아냅니다.\n",
    "repeat_customer_ids = customer_order_counts[customer_order_counts > 1].index\n",
    "\n",
    "# 해당 고객들의 'zip3' 코드를 매핑하여 반복 고객 수 집계에 사용합니다.\n",
    "orders_filtered['is_repeat_customer'] = orders_filtered['customer_unique_id'].isin(repeat_customer_ids)\n",
    "\n",
    "zip_summary = orders_filtered.groupby('zip3').agg(\n",
    "    total_revenue=('total_order_value', 'sum'),\n",
    "    unique_customers=('customer_unique_id', 'nunique'),\n",
    "    # 'is_repeat_customer'가 True인 고유 고객 수를 셉니다.\n",
    "    repeat_customers=('is_repeat_customer', 'sum')\n",
    ").reset_index()\n",
    "\n",
    "# 6️⃣ 고객별 요약\n",
    "customer_summary = orders_filtered.groupby('customer_unique_id').agg(\n",
    "    order_count=('order_id', 'nunique'),\n",
    "    total_spent=('total_order_value', 'sum'),\n",
    "    avg_review=('review_score', 'mean')\n",
    ").reset_index()\n",
    "\n",
    "# 7️⃣ Itaquera 필터 (예시 zip3: 082)\n",
    "itaquera_customers = orders_filtered[orders_filtered['zip3'] == 82]  # 예시\n",
    "itaquera_summary = itaquera_customers.groupby('customer_unique_id').agg(\n",
    "    order_count=('order_id', 'nunique'),\n",
    "    total_spent=('total_order_value', 'sum'),\n",
    "    avg_review=('review_score', 'mean')\n",
    ").sort_values('total_spent', ascending=False)\n",
    "\n",
    "# 8️⃣ 결과 확인\n",
    "print(\"=== 전체 우편번호 요약 ===\")\n",
    "print(zip_summary.sort_values('total_revenue', ascending=False).head(10))\n",
    "print(\"\\n=== Itaquera 상위 고객 ===\")\n",
    "print(itaquera_summary.head(10))"
   ]
  },
  {
   "cell_type": "code",
   "execution_count": 3,
   "id": "ccb7b6ef",
   "metadata": {},
   "outputs": [
    {
     "name": "stdout",
     "output_type": "stream",
     "text": [
      "=== RFM 분석 결과 (일부) ===\n",
      "                 customer_unique_id  Recency  Frequency  Monetary R_Score  \\\n",
      "0  0000366f3b9a7992bf8c76cfdf3221e2      115          1    129.90       4   \n",
      "1  0000b849f77a49e4a4ce2b2a4ca5be3f      118          1     18.90       4   \n",
      "2  0000f46a3911fa3c0805444483337064      541          1     69.00       1   \n",
      "3  0000f6ccb0745a6a4b88665a16c9f078      325          1     25.99       2   \n",
      "4  0004aac84e0df4da2b147fca70cf8255      292          1    180.00       2   \n",
      "\n",
      "  F_Score M_Score RFM_Group  \n",
      "0       1       4       414  \n",
      "1       1       1       411  \n",
      "2       1       2       112  \n",
      "3       1       1       211  \n",
      "4       1       5       215  \n"
     ]
    }
   ],
   "source": [
    "import pandas as pd\n",
    "from datetime import datetime\n",
    "\n",
    "# 데이터 로드\n",
    "orders_df = pd.read_csv('olist_orders_dataset.csv')\n",
    "order_items = pd.read_csv('olist_order_items_dataset.csv')\n",
    "customers = pd.read_csv('olist_customers_dataset.csv')\n",
    "\n",
    "# 데이터 결합 (주요 데이터만 사용)\n",
    "rfm_data = orders_df.merge(order_items, on='order_id') \\\n",
    "                   .merge(customers, on='customer_id')\n",
    "\n",
    "# 'delivered' 상태의 주문만 필터링\n",
    "rfm_data = rfm_data[rfm_data['order_status'] == 'delivered'].copy()\n",
    "\n",
    "# 날짜 형식 변환 및 분석 기준일 설정\n",
    "rfm_data['order_purchase_timestamp'] = pd.to_datetime(rfm_data['order_purchase_timestamp'])\n",
    "current_date = datetime.strptime('2018-09-03', '%Y-%m-%d') # 데이터셋의 마지막 날짜 이후로 설정\n",
    "\n",
    "# 고객별 RFM 지표 계산\n",
    "rfm_table = rfm_data.groupby('customer_unique_id').agg(\n",
    "    Recency=('order_purchase_timestamp', lambda x: (current_date - x.max()).days),\n",
    "    Frequency=('order_id', 'nunique'),\n",
    "    Monetary=('price', 'sum')\n",
    ").reset_index()\n",
    "\n",
    "# RFM 그룹 나누기\n",
    "rfm_table['R_Score'] = pd.qcut(rfm_table['Recency'], 5, labels=[5, 4, 3, 2, 1])\n",
    "rfm_table['F_Score'] = pd.qcut(rfm_table['Frequency'].rank(method='first'), 5, labels=[1, 2, 3, 4, 5])\n",
    "rfm_table['M_Score'] = pd.qcut(rfm_table['Monetary'], 5, labels=[1, 2, 3, 4, 5])\n",
    "\n",
    "# RFM_Group 컬럼 생성\n",
    "rfm_table['RFM_Group'] = rfm_table['R_Score'].astype(str) + rfm_table['F_Score'].astype(str) + rfm_table['M_Score'].astype(str)\n",
    "\n",
    "print(\"=== RFM 분석 결과 (일부) ===\")\n",
    "print(rfm_table.head())"
   ]
  },
  {
   "cell_type": "markdown",
   "id": "17482086",
   "metadata": {},
   "source": [
    "즉 이 RFM 분석결과를 통해 1회성 고객인걸 파악할수있다  이는 itaquera 지역에만 국한된것이아니라 전체지역에서 성향이 나타나고있다"
   ]
  },
  {
   "cell_type": "markdown",
   "id": "a5236948",
   "metadata": {},
   "source": [
    "# SO 그래서 어떤 상품이 잘팔리는데? "
   ]
  },
  {
   "cell_type": "code",
   "execution_count": 5,
   "id": "4e4b75a0",
   "metadata": {},
   "outputs": [
    {
     "name": "stdout",
     "output_type": "stream",
     "text": [
      "=== 판매 수량 기준 상위 10개 상품 카테고리 ===\n",
      "     product_category_name  total_items_sold  total_revenue\n",
      "13         cama_mesa_banho             13665     1228795.46\n",
      "54        moveis_decoracao             11540      929520.95\n",
      "11            beleza_saude             11081     1347468.49\n",
      "32           esporte_lazer              9932     1082435.42\n",
      "44  informatica_acessorios              9874     1135454.64\n",
      "72   utilidades_domesticas              9051      750233.73\n",
      "66      relogios_presentes              6594     1259634.58\n",
      "40      ferramentas_jardim              5874      584155.02\n",
      "70               telefonia              5161      360139.72\n",
      "8               automotivo              4881      662861.88\n",
      "\n",
      "--- 총 매출액 기준 상위 10개 상품 카테고리 ---\n",
      "     product_category_name  total_items_sold  total_revenue\n",
      "11            beleza_saude             11081     1347468.49\n",
      "66      relogios_presentes              6594     1259634.58\n",
      "13         cama_mesa_banho             13665     1228795.46\n",
      "44  informatica_acessorios              9874     1135454.64\n",
      "32           esporte_lazer              9932     1082435.42\n",
      "54        moveis_decoracao             11540      929520.95\n",
      "72   utilidades_domesticas              9051      750233.73\n",
      "8               automotivo              4881      662861.88\n",
      "26              cool_stuff              4077      659590.61\n",
      "40      ferramentas_jardim              5874      584155.02\n"
     ]
    }
   ],
   "source": [
    "import pandas as pd\n",
    "\n",
    "# 1. 필요한 데이터셋 로드\n",
    "order_items = pd.read_csv('olist_order_items_dataset.csv')\n",
    "products = pd.read_csv('olist_products_dataset.csv')\n",
    "\n",
    "# 2. 데이터 병합 (상품 카테고리 정보 결합)\n",
    "# order_id가 중복되어 product_id와 order_item_id 기준으로 합쳐서 판매량 계산\n",
    "sales_data = order_items.merge(products, on='product_id', how='left')\n",
    "\n",
    "# 3. 파생변수 생성: 총 매출액 계산\n",
    "sales_data['total_revenue'] = sales_data['price'] * sales_data['order_item_id']\n",
    "\n",
    "# 4. 상품 카테고리별로 집계\n",
    "category_summary = sales_data.groupby('product_category_name').agg(\n",
    "    total_items_sold=('order_item_id', 'sum'),\n",
    "    total_revenue=('total_revenue', 'sum')\n",
    ").reset_index()\n",
    "\n",
    "# 5. 판매 수량 기준 상위 10개 상품 카테고리\n",
    "top10_by_quantity = category_summary.sort_values(by='total_items_sold', ascending=False).head(10)\n",
    "\n",
    "# 6. 총 매출액 기준 상위 10개 상품 카테고리\n",
    "top10_by_revenue = category_summary.sort_values(by='total_revenue', ascending=False).head(10)\n",
    "\n",
    "print(\"=== 판매 수량 기준 상위 10개 상품 카테고리 ===\")\n",
    "print(top10_by_quantity)\n",
    "print(\"\\n--- 총 매출액 기준 상위 10개 상품 카테고리 ---\")\n",
    "print(top10_by_revenue)"
   ]
  },
  {
   "cell_type": "markdown",
   "id": "26bb1754",
   "metadata": {},
   "source": [
    "# 인기상품 순위 "
   ]
  },
  {
   "cell_type": "markdown",
   "id": "8ea7f1a9",
   "metadata": {},
   "source": [
    "판매수량 기준 상위10개 상품카테고리로는  인기상품 5개를 뽑자면 cama_mesa_banho (침구_테이블_욕실) 가 1위 moveis_decoracao (가구_장식)가 2순위 , beleza_saude (미용_건강) 3순위, esporte_lazer (스포츠_레저) 4순위, informatica_acessorios (정보_액세서리) 순이다. "
   ]
  },
  {
   "cell_type": "markdown",
   "id": "18609363",
   "metadata": {},
   "source": [
    "# 인기순위와 매출액은 정비례 관계인가?"
   ]
  },
  {
   "cell_type": "markdown",
   "id": "c4428326",
   "metadata": {},
   "source": [
    "1.미용건강이 3순위지만 매출 은 가장높다 이는 아마도 상품의 평균 단가가 높거나 고가의상품또는 고가의 부자재가 쓰이기 때문으로 추정할수있다 \n",
    "\n",
    "2. 시계 선물 판매량은 6위지만 매출액은 2위이다 아마 시계 자체가 무브먼트 등 브랜드의 프리미엄 값이 붙기때문에 이것이 수익을 증대했다고 볼수있다 \n",
    "\n",
    "3. (침구 테이블 욕실 ) 은 인기는 1순위이지만 매출액 순위는 3순위이다 판매량은 많지만 단가가 낮아 수익성 측면에서 상대적으로 밀린것 으로 보인다 \n",
    "\n",
    "즉 잘팔리는것과 돈이되는것은 다르다는 결과를 도출할수있다 \n",
    "\n"
   ]
  },
  {
   "cell_type": "markdown",
   "id": "685678bd",
   "metadata": {},
   "source": [
    "# 인기순위로는  시계 가 6위이며 매출액이 2위인데 이것이 과연 itaquera 에서 판매를 하면 먹힐까? "
   ]
  },
  {
   "cell_type": "markdown",
   "id": "1fef892c",
   "metadata": {},
   "source": [
    "itaquera는 어떤 지역인가 ? \n",
    "\n",
    "상파울루의 외곽 지역: 이타케라는 상파울루시 동부 지역에 위치하며, 주로 노동자 계층과 중하위 소득층이 거주하는 지역으로 알려져 있습니다.\n",
    "\n",
    "평균 소득: 상파울루 전체 평균 소득보다 낮은 편이며, 특히 빈곤선 이하의 인구도 존재합니다. 이 지역은 저렴한 주택과 대중교통 인프라를 바탕으로 성장해 왔다. 그러므로 평균소득이 낮은편이라 고가의 시계를 파는건 적절치않다 판단된다."
   ]
  },
  {
   "cell_type": "markdown",
   "id": "8add5496",
   "metadata": {},
   "source": [
    "# 다시돌아가서  왜 대부분의 고객은 1회성 구매에 그쳤나? "
   ]
  },
  {
   "cell_type": "code",
   "execution_count": 7,
   "id": "2dacc6b7",
   "metadata": {},
   "outputs": [
    {
     "data": {
      "image/png": "[encoded data removed]",
      "text/plain": [
       "<Figure size 800x600 with 1 Axes>"
      ]
     },
     "metadata": {},
     "output_type": "display_data"
    }
   ],
   "source": [
    "import pandas as pd\n",
    "import matplotlib.pyplot as plt\n",
    "import matplotlib.font_manager as fm\n",
    "\n",
    "# 한글 폰트 설정 (Mac과 Windows에 따라 다른 폰트를 사용)\n",
    "plt.rcParams['font.family'] = 'Malgun Gothic' # For Windows\n",
    "# plt.rcParams['font.family'] = 'AppleGothic' # For Mac\n",
    "\n",
    "# 마이너스 기호 깨짐 방지\n",
    "plt.rcParams['axes.unicode_minus'] = False\n",
    "\n",
    "# 1. 데이터 로드\n",
    "orders_df = pd.read_csv('olist_orders_dataset.csv')\n",
    "reviews_df = pd.read_csv('olist_order_reviews_dataset.csv')\n",
    "\n",
    "# 2. 필요한 데이터만 병합 (주문 및 리뷰 정보)\n",
    "delivery_analysis = orders_df.merge(reviews_df, on='order_id', how='inner')\n",
    "\n",
    "# 3. 날짜 컬럼을 datetime 형식으로 변환\n",
    "delivery_analysis['order_delivered_customer_date'] = pd.to_datetime(delivery_analysis['order_delivered_customer_date'])\n",
    "delivery_analysis['order_estimated_delivery_date'] = pd.to_datetime(delivery_analysis['order_estimated_delivery_date'])\n",
    "\n",
    "# 4. 배송 지연 여부 판단 (배송 완료일 > 예상 배송일이면 지연)\n",
    "delivery_analysis['is_delayed'] = delivery_analysis['order_delivered_customer_date'] > delivery_analysis['order_estimated_delivery_date']\n",
    "\n",
    "# 5. 배송 지연 여부별 평균 리뷰 점수 계산\n",
    "avg_review_by_delivery = delivery_analysis.groupby('is_delayed')['review_score'].mean().reset_index()\n",
    "avg_review_by_delivery['is_delayed'] = avg_review_by_delivery['is_delayed'].map({True: '배송 지연', False: '정시 배송'})\n",
    "\n",
    "# 6. 차트 그리기\n",
    "plt.figure(figsize=(8, 6))\n",
    "\n",
    "# 막대 그래프 생성\n",
    "bar_chart = plt.bar(\n",
    "    avg_review_by_delivery['is_delayed'], \n",
    "    avg_review_by_delivery['review_score'], \n",
    "    color=['skyblue', 'salmon'],\n",
    "    width=0.5\n",
    ")\n",
    "\n",
    "# 제목 및 라벨 추가\n",
    "plt.title('배송 지연 여부별 평균 리뷰 점수 비교', fontsize=16, pad=15)\n",
    "plt.xlabel('배송 여부', fontsize=12)\n",
    "plt.ylabel('평균 리뷰 점수', fontsize=12)\n",
    "plt.ylim(0, 5.0) # y축 범위를 0-5점으로 설정하여 비교 용이하게 함\n",
    "\n",
    "# 각 막대 위에 값 표시 (데이터 라벨 추가)\n",
    "for bar in bar_chart:\n",
    "    yval = bar.get_height()\n",
    "    plt.text(bar.get_x() + bar.get_width()/2, yval + 0.1, round(yval, 2), ha='center', va='bottom', fontsize=12)\n",
    "\n",
    "# 그리드 추가\n",
    "plt.grid(axis='y', linestyle='--', alpha=0.7)\n",
    "\n",
    "plt.show()"
   ]
  },
  {
   "cell_type": "markdown",
   "id": "6f6cec40",
   "metadata": {},
   "source": [
    "이 분석을 통해 배송은 빨랐지만, 상품의 품질이 기대 이하였다와 같은 숨겨진 불만 사항을 발견할 수 있습니다. "
   ]
  },
  {
   "cell_type": "markdown",
   "id": "0f0ab86c",
   "metadata": {},
   "source": [
    "# 고객은 어떤불만이 있던걸까? "
   ]
  },
  {
   "cell_type": "code",
   "execution_count": 9,
   "id": "b8906086",
   "metadata": {},
   "outputs": [
    {
     "data": {
      "image/png": "[encoded data removed]",
      "text/plain": [
       "<Figure size 1000x600 with 1 Axes>"
      ]
     },
     "metadata": {},
     "output_type": "display_data"
    },
    {
     "name": "stdout",
     "output_type": "stream",
     "text": [
      "\n",
      "--- 부정적 리뷰 키워드 빈도 ---\n",
      "           Issue  Count\n",
      "0           Late   1191\n",
      "1  Return/Refund    821\n",
      "2    Bad_Quality    526\n",
      "4  Wrong_Product    342\n",
      "3        Damaged    242\n"
     ]
    }
   ],
   "source": [
    "import pandas as pd\n",
    "import matplotlib.pyplot as plt\n",
    "from collections import defaultdict\n",
    "import re\n",
    "\n",
    "# 1. 데이터 로드\n",
    "reviews_df = pd.read_csv('olist_order_reviews_dataset.csv')\n",
    "\n",
    "# 2. 1점과 2점 리뷰만 필터링 (가장 불만이 높은 리뷰)\n",
    "low_score_reviews = reviews_df[reviews_df['review_score'].isin([1, 2])].copy()\n",
    "\n",
    "# 3. 리뷰 내용이 없는 행은 분석에서 제외\n",
    "low_score_reviews = low_score_reviews.dropna(subset=['review_comment_message'])\n",
    "\n",
    "# 4. 키워드 사전 정의 (브라질 포르투갈어 기반)\n",
    "# 키워드와 그 키워드가 포함될 수 있는 여러 표현을 담았습니다.\n",
    "keywords_pt = {\n",
    "    'Late': ['atraso', 'demora', 'tarde', 'demorou', 'não chegou'],  # 늦음\n",
    "    'Damaged': ['danificado', 'quebrado', 'estrago', 'avaria', 'amassado', 'estragou'], # 손상\n",
    "    'Wrong_Product': ['errado', 'incompativel', 'incorreto', 'não é o que pedi'], # 상품 오류\n",
    "    'Bad_Quality': ['ruim', 'péssima', 'baixa qualidade', 'não funciona', 'fraco'], # 품질 불량\n",
    "    'Return/Refund': ['devolver', 'troca', 'reembolso', 'devolucao', 'cancelar'] # 반품/환불\n",
    "}\n",
    "\n",
    "# 5. 리뷰 텍스트에서 키워드 빈도 계산\n",
    "keyword_counts = defaultdict(int)\n",
    "\n",
    "for text in low_score_reviews['review_comment_message']:\n",
    "    text = text.lower() # 소문자로 변환하여 검색\n",
    "    for key, values in keywords_pt.items():\n",
    "        if any(keyword in text for keyword in values):\n",
    "            keyword_counts[key] += 1\n",
    "\n",
    "# 6. 결과를 데이터프레임으로 변환하고 정렬\n",
    "keyword_df = pd.DataFrame(list(keyword_counts.items()), columns=['Issue', 'Count']).sort_values('Count', ascending=False)\n",
    "\n",
    "# 7. 차트 그리기\n",
    "plt.figure(figsize=(10, 6))\n",
    "plt.bar(keyword_df['Issue'], keyword_df['Count'], color='dodgerblue')\n",
    "plt.title('부정적 리뷰에서 가장 많이 언급된 문제', fontsize=16)\n",
    "plt.xlabel('문제 유형', fontsize=12)\n",
    "plt.ylabel('언급 횟수', fontsize=12)\n",
    "plt.xticks(rotation=45) # 라벨이 겹치지 않게 회전\n",
    "plt.show()\n",
    "\n",
    "print(\"\\n--- 부정적 리뷰 키워드 빈도 ---\")\n",
    "print(keyword_df)"
   ]
  },
  {
   "cell_type": "markdown",
   "id": "9fbff31d",
   "metadata": {},
   "source": [
    "데이터가 말하는 고객 불만\n",
    "배송 문제의 영향력: 2.55점이라는 낮은 점수는 고객이 배송 지연에 대해 매우 강한 불만을 느낀다는 것을 명확하게 보여준다.  배송 문제는 고객 이탈의 주요 원인 중 하나일뿐 나머지에서 봐도 환불 아마 상품에 하자가있거나 상품오류 ,손상등 데이터상 꽤 많은 문제가 있다는걸 나타낸다 \n",
    "\n",
    "배송 외 다른 불만  정시 배송된 주문의 평균 점수가 5점이 아닌 4.1점이라는 것은 설령 배송이 제때 이루어졌더라도 고객이 다른 이유로 인해 만족하지 못했다는것을 나타낸다 "
   ]
  },
  {
   "cell_type": "markdown",
   "id": "b9d9080f",
   "metadata": {},
   "source": [
    "# 해결점 "
   ]
  },
  {
   "cell_type": "markdown",
   "id": "e14a7068",
   "metadata": {},
   "source": [
    "물류서비스 개선 과 상품 CS 개선"
   ]
  }
 ],
 "metadata": {
  "kernelspec": {
   "display_name": "venv",
   "language": "python",
   "name": "python3"
  },
  "language_info": {
   "codemirror_mode": {
    "name": "ipython",
    "version": 3
   },
   "file_extension": ".py",
   "mimetype": "text/x-python",
   "name": "python",
   "nbconvert_exporter": "python",
   "pygments_lexer": "ipython3",
   "version": "3.13.2"
  }
 },
 "nbformat": 4,
 "nbformat_minor": 5
}
