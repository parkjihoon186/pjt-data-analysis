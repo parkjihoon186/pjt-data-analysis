{
 "cells": [
  {
   "cell_type": "markdown",
   "id": "dfd5389a",
   "metadata": {},
   "source": [
    "# 데이터 불러오기 "
   ]
  },
  {
   "cell_type": "code",
   "execution_count": 9,
   "id": "11a84734",
   "metadata": {},
   "outputs": [
    {
     "name": "stdout",
     "output_type": "stream",
     "text": [
      "<class 'pandas.core.frame.DataFrame'>\n",
      "RangeIndex: 99441 entries, 0 to 99440\n",
      "Data columns (total 5 columns):\n",
      " #   Column                    Non-Null Count  Dtype \n",
      "---  ------                    --------------  ----- \n",
      " 0   customer_id               99441 non-null  object\n",
      " 1   customer_unique_id        99441 non-null  object\n",
      " 2   customer_zip_code_prefix  99441 non-null  int64 \n",
      " 3   customer_city             99441 non-null  object\n",
      " 4   customer_state            99441 non-null  object\n",
      "dtypes: int64(1), object(4)\n",
      "memory usage: 3.8+ MB\n"
     ]
    },
    {
     "data": {
      "text/html": [
       "<div>\n",
       "<style scoped>\n",
       "    .dataframe tbody tr th:only-of-type {\n",
       "        vertical-align: middle;\n",
       "    }\n",
       "\n",
       "    .dataframe tbody tr th {\n",
       "        vertical-align: top;\n",
       "    }\n",
       "\n",
       "    .dataframe thead th {\n",
       "        text-align: right;\n",
       "    }\n",
       "</style>\n",
       "<table border=\"1\" class=\"dataframe\">\n",
       "  <thead>\n",
       "    <tr style=\"text-align: right;\">\n",
       "      <th></th>\n",
       "      <th>customer_zip_code_prefix</th>\n",
       "    </tr>\n",
       "  </thead>\n",
       "  <tbody>\n",
       "    <tr>\n",
       "      <th>count</th>\n",
       "      <td>99441.000000</td>\n",
       "    </tr>\n",
       "    <tr>\n",
       "      <th>mean</th>\n",
       "      <td>35137.474583</td>\n",
       "    </tr>\n",
       "    <tr>\n",
       "      <th>std</th>\n",
       "      <td>29797.938996</td>\n",
       "    </tr>\n",
       "    <tr>\n",
       "      <th>min</th>\n",
       "      <td>1003.000000</td>\n",
       "    </tr>\n",
       "    <tr>\n",
       "      <th>25%</th>\n",
       "      <td>11347.000000</td>\n",
       "    </tr>\n",
       "    <tr>\n",
       "      <th>50%</th>\n",
       "      <td>24416.000000</td>\n",
       "    </tr>\n",
       "    <tr>\n",
       "      <th>75%</th>\n",
       "      <td>58900.000000</td>\n",
       "    </tr>\n",
       "    <tr>\n",
       "      <th>max</th>\n",
       "      <td>99990.000000</td>\n",
       "    </tr>\n",
       "  </tbody>\n",
       "</table>\n",
       "</div>"
      ],
      "text/plain": [
       "       customer_zip_code_prefix\n",
       "count              99441.000000\n",
       "mean               35137.474583\n",
       "std                29797.938996\n",
       "min                 1003.000000\n",
       "25%                11347.000000\n",
       "50%                24416.000000\n",
       "75%                58900.000000\n",
       "max                99990.000000"
      ]
     },
     "execution_count": 9,
     "metadata": {},
     "output_type": "execute_result"
    }
   ],
   "source": [
    "import pandas as pd \n",
    "data=pd.read_csv(\"olist_customers_dataset.csv\")\n",
    "data.head()\n",
    "data.info()\n",
    "data.describe( )\n"
   ]
  },
  {
   "cell_type": "code",
   "execution_count": 20,
   "id": "b95d7f8e",
   "metadata": {},
   "outputs": [
    {
     "data": {
      "text/html": [
       "<div>\n",
       "<style scoped>\n",
       "    .dataframe tbody tr th:only-of-type {\n",
       "        vertical-align: middle;\n",
       "    }\n",
       "\n",
       "    .dataframe tbody tr th {\n",
       "        vertical-align: top;\n",
       "    }\n",
       "\n",
       "    .dataframe thead th {\n",
       "        text-align: right;\n",
       "    }\n",
       "</style>\n",
       "<table border=\"1\" class=\"dataframe\">\n",
       "  <thead>\n",
       "    <tr style=\"text-align: right;\">\n",
       "      <th></th>\n",
       "      <th>customer_id</th>\n",
       "      <th>customer_unique_id</th>\n",
       "      <th>customer_zip_code_prefix</th>\n",
       "      <th>customer_city</th>\n",
       "      <th>customer_state</th>\n",
       "    </tr>\n",
       "  </thead>\n",
       "  <tbody>\n",
       "    <tr>\n",
       "      <th>0</th>\n",
       "      <td>06b8999e2fba1a1fbc88172c00ba8bc7</td>\n",
       "      <td>861eff4711a542e4b93843c6dd7febb0</td>\n",
       "      <td>14409</td>\n",
       "      <td>franca</td>\n",
       "      <td>SP</td>\n",
       "    </tr>\n",
       "    <tr>\n",
       "      <th>1</th>\n",
       "      <td>18955e83d337fd6b2def6b18a428ac77</td>\n",
       "      <td>290c77bc529b7ac935b93aa66c333dc3</td>\n",
       "      <td>9790</td>\n",
       "      <td>sao bernardo do campo</td>\n",
       "      <td>SP</td>\n",
       "    </tr>\n",
       "    <tr>\n",
       "      <th>2</th>\n",
       "      <td>4e7b3e00288586ebd08712fdd0374a03</td>\n",
       "      <td>060e732b5b29e8181a18229c7b0b2b5e</td>\n",
       "      <td>1151</td>\n",
       "      <td>sao paulo</td>\n",
       "      <td>SP</td>\n",
       "    </tr>\n",
       "    <tr>\n",
       "      <th>3</th>\n",
       "      <td>b2b6027bc5c5109e529d4dc6358b12c3</td>\n",
       "      <td>259dac757896d24d7702b9acbbff3f3c</td>\n",
       "      <td>8775</td>\n",
       "      <td>mogi das cruzes</td>\n",
       "      <td>SP</td>\n",
       "    </tr>\n",
       "    <tr>\n",
       "      <th>4</th>\n",
       "      <td>4f2d8ab171c80ec8364f7c12e35b23ad</td>\n",
       "      <td>345ecd01c38d18a9036ed96c73b8d066</td>\n",
       "      <td>13056</td>\n",
       "      <td>campinas</td>\n",
       "      <td>SP</td>\n",
       "    </tr>\n",
       "  </tbody>\n",
       "</table>\n",
       "</div>"
      ],
      "text/plain": [
       "                        customer_id                customer_unique_id  \\\n",
       "0  06b8999e2fba1a1fbc88172c00ba8bc7  861eff4711a542e4b93843c6dd7febb0   \n",
       "1  18955e83d337fd6b2def6b18a428ac77  290c77bc529b7ac935b93aa66c333dc3   \n",
       "2  4e7b3e00288586ebd08712fdd0374a03  060e732b5b29e8181a18229c7b0b2b5e   \n",
       "3  b2b6027bc5c5109e529d4dc6358b12c3  259dac757896d24d7702b9acbbff3f3c   \n",
       "4  4f2d8ab171c80ec8364f7c12e35b23ad  345ecd01c38d18a9036ed96c73b8d066   \n",
       "\n",
       "   customer_zip_code_prefix          customer_city customer_state  \n",
       "0                     14409                 franca             SP  \n",
       "1                      9790  sao bernardo do campo             SP  \n",
       "2                      1151              sao paulo             SP  \n",
       "3                      8775        mogi das cruzes             SP  \n",
       "4                     13056               campinas             SP  "
      ]
     },
     "execution_count": 20,
     "metadata": {},
     "output_type": "execute_result"
    }
   ],
   "source": [
    "df.head(5)"
   ]
  },
  {
   "cell_type": "markdown",
   "id": "251ef6be",
   "metadata": {},
   "source": [
    "결측값 확인 "
   ]
  },
  {
   "cell_type": "code",
   "execution_count": 10,
   "id": "29881e3c",
   "metadata": {},
   "outputs": [
    {
     "data": {
      "text/plain": [
       "customer_id                 0\n",
       "customer_unique_id          0\n",
       "customer_zip_code_prefix    0\n",
       "customer_city               0\n",
       "customer_state              0\n",
       "dtype: int64"
      ]
     },
     "execution_count": 10,
     "metadata": {},
     "output_type": "execute_result"
    }
   ],
   "source": [
    "data.isnull().sum()"
   ]
  },
  {
   "cell_type": "code",
   "execution_count": 11,
   "id": "4aea0aae",
   "metadata": {},
   "outputs": [
    {
     "data": {
      "text/plain": [
       "np.int64(3345)"
      ]
     },
     "execution_count": 11,
     "metadata": {},
     "output_type": "execute_result"
    }
   ],
   "source": [
    "data['customer_unique_id'].duplicated().sum()"
   ]
  },
  {
   "cell_type": "markdown",
   "id": "fbad8905",
   "metadata": {},
   "source": [
    "상위도시별 고객수"
   ]
  },
  {
   "cell_type": "code",
   "execution_count": 12,
   "id": "38364fbd",
   "metadata": {},
   "outputs": [
    {
     "name": "stdout",
     "output_type": "stream",
     "text": [
      "상위 10개 도시별 고객 수:\n",
      "                    city  customer_count\n",
      "0              sao paulo           15540\n",
      "1         rio de janeiro            6882\n",
      "2         belo horizonte            2773\n",
      "3               brasilia            2131\n",
      "4               curitiba            1521\n",
      "5               campinas            1444\n",
      "6           porto alegre            1379\n",
      "7               salvador            1245\n",
      "8              guarulhos            1189\n",
      "9  sao bernardo do campo             938\n",
      "------------------------------\n"
     ]
    },
    {
     "name": "stderr",
     "output_type": "stream",
     "text": [
      "C:\\Users\\Public\\Documents\\ESTsoft\\CreatorTemp\\ipykernel_5904\\1960415422.py:25: FutureWarning: \n",
      "\n",
      "Passing `palette` without assigning `hue` is deprecated and will be removed in v0.14.0. Assign the `y` variable to `hue` and set `legend=False` for the same effect.\n",
      "\n",
      "  sns.barplot(x=top_10_cities.values, y=top_10_cities.index, palette='viridis')\n",
      "C:\\Users\\Public\\Documents\\ESTsoft\\CreatorTemp\\ipykernel_5904\\1960415422.py:31: UserWarning: Glyph 44256 (\\N{HANGUL SYLLABLE GO}) missing from font(s) DejaVu Sans.\n",
      "  plt.tight_layout()\n",
      "C:\\Users\\Public\\Documents\\ESTsoft\\CreatorTemp\\ipykernel_5904\\1960415422.py:31: UserWarning: Glyph 44061 (\\N{HANGUL SYLLABLE GAEG}) missing from font(s) DejaVu Sans.\n",
      "  plt.tight_layout()\n",
      "C:\\Users\\Public\\Documents\\ESTsoft\\CreatorTemp\\ipykernel_5904\\1960415422.py:31: UserWarning: Glyph 49688 (\\N{HANGUL SYLLABLE SU}) missing from font(s) DejaVu Sans.\n",
      "  plt.tight_layout()\n",
      "C:\\Users\\Public\\Documents\\ESTsoft\\CreatorTemp\\ipykernel_5904\\1960415422.py:31: UserWarning: Glyph 46020 (\\N{HANGUL SYLLABLE DO}) missing from font(s) DejaVu Sans.\n",
      "  plt.tight_layout()\n",
      "C:\\Users\\Public\\Documents\\ESTsoft\\CreatorTemp\\ipykernel_5904\\1960415422.py:31: UserWarning: Glyph 49884 (\\N{HANGUL SYLLABLE SI}) missing from font(s) DejaVu Sans.\n",
      "  plt.tight_layout()\n",
      "C:\\Users\\Public\\Documents\\ESTsoft\\CreatorTemp\\ipykernel_5904\\1960415422.py:31: UserWarning: Glyph 49345 (\\N{HANGUL SYLLABLE SANG}) missing from font(s) DejaVu Sans.\n",
      "  plt.tight_layout()\n",
      "C:\\Users\\Public\\Documents\\ESTsoft\\CreatorTemp\\ipykernel_5904\\1960415422.py:31: UserWarning: Glyph 50948 (\\N{HANGUL SYLLABLE WI}) missing from font(s) DejaVu Sans.\n",
      "  plt.tight_layout()\n",
      "C:\\Users\\Public\\Documents\\ESTsoft\\CreatorTemp\\ipykernel_5904\\1960415422.py:31: UserWarning: Glyph 44060 (\\N{HANGUL SYLLABLE GAE}) missing from font(s) DejaVu Sans.\n",
      "  plt.tight_layout()\n",
      "C:\\Users\\Public\\Documents\\ESTsoft\\CreatorTemp\\ipykernel_5904\\1960415422.py:31: UserWarning: Glyph 48324 (\\N{HANGUL SYLLABLE BYEOL}) missing from font(s) DejaVu Sans.\n",
      "  plt.tight_layout()\n",
      "C:\\Users\\Public\\Documents\\ESTsoft\\CreatorTemp\\ipykernel_5904\\1960415422.py:31: UserWarning: Glyph 48516 (\\N{HANGUL SYLLABLE BUN}) missing from font(s) DejaVu Sans.\n",
      "  plt.tight_layout()\n",
      "C:\\Users\\Public\\Documents\\ESTsoft\\CreatorTemp\\ipykernel_5904\\1960415422.py:31: UserWarning: Glyph 54252 (\\N{HANGUL SYLLABLE PO}) missing from font(s) DejaVu Sans.\n",
      "  plt.tight_layout()\n",
      "C:\\Users\\Public\\Documents\\ESTsoft\\CreatorTemp\\ipykernel_5904\\1960415422.py:34: UserWarning: Glyph 44256 (\\N{HANGUL SYLLABLE GO}) missing from font(s) DejaVu Sans.\n",
      "  plt.savefig('customer_distribution.png')\n",
      "C:\\Users\\Public\\Documents\\ESTsoft\\CreatorTemp\\ipykernel_5904\\1960415422.py:34: UserWarning: Glyph 44061 (\\N{HANGUL SYLLABLE GAEG}) missing from font(s) DejaVu Sans.\n",
      "  plt.savefig('customer_distribution.png')\n",
      "C:\\Users\\Public\\Documents\\ESTsoft\\CreatorTemp\\ipykernel_5904\\1960415422.py:34: UserWarning: Glyph 49688 (\\N{HANGUL SYLLABLE SU}) missing from font(s) DejaVu Sans.\n",
      "  plt.savefig('customer_distribution.png')\n",
      "C:\\Users\\Public\\Documents\\ESTsoft\\CreatorTemp\\ipykernel_5904\\1960415422.py:34: UserWarning: Glyph 46020 (\\N{HANGUL SYLLABLE DO}) missing from font(s) DejaVu Sans.\n",
      "  plt.savefig('customer_distribution.png')\n",
      "C:\\Users\\Public\\Documents\\ESTsoft\\CreatorTemp\\ipykernel_5904\\1960415422.py:34: UserWarning: Glyph 49884 (\\N{HANGUL SYLLABLE SI}) missing from font(s) DejaVu Sans.\n",
      "  plt.savefig('customer_distribution.png')\n",
      "C:\\Users\\Public\\Documents\\ESTsoft\\CreatorTemp\\ipykernel_5904\\1960415422.py:34: UserWarning: Glyph 49345 (\\N{HANGUL SYLLABLE SANG}) missing from font(s) DejaVu Sans.\n",
      "  plt.savefig('customer_distribution.png')\n",
      "C:\\Users\\Public\\Documents\\ESTsoft\\CreatorTemp\\ipykernel_5904\\1960415422.py:34: UserWarning: Glyph 50948 (\\N{HANGUL SYLLABLE WI}) missing from font(s) DejaVu Sans.\n",
      "  plt.savefig('customer_distribution.png')\n",
      "C:\\Users\\Public\\Documents\\ESTsoft\\CreatorTemp\\ipykernel_5904\\1960415422.py:34: UserWarning: Glyph 44060 (\\N{HANGUL SYLLABLE GAE}) missing from font(s) DejaVu Sans.\n",
      "  plt.savefig('customer_distribution.png')\n",
      "C:\\Users\\Public\\Documents\\ESTsoft\\CreatorTemp\\ipykernel_5904\\1960415422.py:34: UserWarning: Glyph 48324 (\\N{HANGUL SYLLABLE BYEOL}) missing from font(s) DejaVu Sans.\n",
      "  plt.savefig('customer_distribution.png')\n",
      "C:\\Users\\Public\\Documents\\ESTsoft\\CreatorTemp\\ipykernel_5904\\1960415422.py:34: UserWarning: Glyph 48516 (\\N{HANGUL SYLLABLE BUN}) missing from font(s) DejaVu Sans.\n",
      "  plt.savefig('customer_distribution.png')\n",
      "C:\\Users\\Public\\Documents\\ESTsoft\\CreatorTemp\\ipykernel_5904\\1960415422.py:34: UserWarning: Glyph 54252 (\\N{HANGUL SYLLABLE PO}) missing from font(s) DejaVu Sans.\n",
      "  plt.savefig('customer_distribution.png')\n"
     ]
    },
    {
     "name": "stdout",
     "output_type": "stream",
     "text": [
      "그래프가 'customer_distribution.png' 파일로 저장되었습니다.\n"
     ]
    },
    {
     "name": "stderr",
     "output_type": "stream",
     "text": [
      "c:\\Users\\User\\pjt-data-analysis\\venv\\Lib\\site-packages\\IPython\\core\\pylabtools.py:170: UserWarning: Glyph 46020 (\\N{HANGUL SYLLABLE DO}) missing from font(s) DejaVu Sans.\n",
      "  fig.canvas.print_figure(bytes_io, **kw)\n",
      "c:\\Users\\User\\pjt-data-analysis\\venv\\Lib\\site-packages\\IPython\\core\\pylabtools.py:170: UserWarning: Glyph 49884 (\\N{HANGUL SYLLABLE SI}) missing from font(s) DejaVu Sans.\n",
      "  fig.canvas.print_figure(bytes_io, **kw)\n",
      "c:\\Users\\User\\pjt-data-analysis\\venv\\Lib\\site-packages\\IPython\\core\\pylabtools.py:170: UserWarning: Glyph 49345 (\\N{HANGUL SYLLABLE SANG}) missing from font(s) DejaVu Sans.\n",
      "  fig.canvas.print_figure(bytes_io, **kw)\n",
      "c:\\Users\\User\\pjt-data-analysis\\venv\\Lib\\site-packages\\IPython\\core\\pylabtools.py:170: UserWarning: Glyph 50948 (\\N{HANGUL SYLLABLE WI}) missing from font(s) DejaVu Sans.\n",
      "  fig.canvas.print_figure(bytes_io, **kw)\n",
      "c:\\Users\\User\\pjt-data-analysis\\venv\\Lib\\site-packages\\IPython\\core\\pylabtools.py:170: UserWarning: Glyph 44060 (\\N{HANGUL SYLLABLE GAE}) missing from font(s) DejaVu Sans.\n",
      "  fig.canvas.print_figure(bytes_io, **kw)\n",
      "c:\\Users\\User\\pjt-data-analysis\\venv\\Lib\\site-packages\\IPython\\core\\pylabtools.py:170: UserWarning: Glyph 48324 (\\N{HANGUL SYLLABLE BYEOL}) missing from font(s) DejaVu Sans.\n",
      "  fig.canvas.print_figure(bytes_io, **kw)\n",
      "c:\\Users\\User\\pjt-data-analysis\\venv\\Lib\\site-packages\\IPython\\core\\pylabtools.py:170: UserWarning: Glyph 44256 (\\N{HANGUL SYLLABLE GO}) missing from font(s) DejaVu Sans.\n",
      "  fig.canvas.print_figure(bytes_io, **kw)\n",
      "c:\\Users\\User\\pjt-data-analysis\\venv\\Lib\\site-packages\\IPython\\core\\pylabtools.py:170: UserWarning: Glyph 44061 (\\N{HANGUL SYLLABLE GAEG}) missing from font(s) DejaVu Sans.\n",
      "  fig.canvas.print_figure(bytes_io, **kw)\n",
      "c:\\Users\\User\\pjt-data-analysis\\venv\\Lib\\site-packages\\IPython\\core\\pylabtools.py:170: UserWarning: Glyph 48516 (\\N{HANGUL SYLLABLE BUN}) missing from font(s) DejaVu Sans.\n",
      "  fig.canvas.print_figure(bytes_io, **kw)\n",
      "c:\\Users\\User\\pjt-data-analysis\\venv\\Lib\\site-packages\\IPython\\core\\pylabtools.py:170: UserWarning: Glyph 54252 (\\N{HANGUL SYLLABLE PO}) missing from font(s) DejaVu Sans.\n",
      "  fig.canvas.print_figure(bytes_io, **kw)\n",
      "c:\\Users\\User\\pjt-data-analysis\\venv\\Lib\\site-packages\\IPython\\core\\pylabtools.py:170: UserWarning: Glyph 49688 (\\N{HANGUL SYLLABLE SU}) missing from font(s) DejaVu Sans.\n",
      "  fig.canvas.print_figure(bytes_io, **kw)\n"
     ]
    },
    {
     "data": {
      "image/png": "[encoded data removed]",
      "text/plain": [
       "<Figure size 1200x800 with 1 Axes>"
      ]
     },
     "metadata": {},
     "output_type": "display_data"
    }
   ],
   "source": [
    "import pandas as pd\n",
    "import matplotlib.pyplot as plt\n",
    "import seaborn as sns\n",
    "\n",
    "# 데이터 불러오기\n",
    "df = pd.read_csv('olist_customers_dataset.csv')\n",
    "\n",
    "# 도시별 고객 수 계산\n",
    "# 'customer_city' 컬럼을 기준으로 그룹화하고 각 그룹의 크기를 계산합니다.\n",
    "city_counts = df['customer_city'].value_counts()\n",
    "\n",
    "# 상위 10개 도시 데이터 추출 및 CSV로 저장\n",
    "top_10_cities = city_counts.nlargest(10)\n",
    "top_10_cities_df = top_10_cities.reset_index()\n",
    "top_10_cities_df.columns = ['city', 'customer_count']\n",
    "top_10_cities_df.to_csv('top_10_cities.csv', index=False, encoding='utf-8-sig')\n",
    "\n",
    "# 상위 10개 도시 데이터 출력\n",
    "print(\"상위 10개 도시별 고객 수:\")\n",
    "print(top_10_cities_df)\n",
    "print(\"-\" * 30)\n",
    "\n",
    "# 시각화: 상위 10개 도시 막대 그래프\n",
    "plt.figure(figsize=(12, 8))\n",
    "sns.barplot(x=top_10_cities.values, y=top_10_cities.index, palette='viridis')\n",
    "\n",
    "# 그래프 제목과 축 레이블 설정\n",
    "plt.title('상위 10개 도시별 고객 분포', fontsize=16)\n",
    "plt.xlabel('고객 수', fontsize=12)\n",
    "plt.ylabel('도시', fontsize=12)\n",
    "plt.tight_layout()\n",
    "\n",
    "# 그래프 파일로 저장\n",
    "plt.savefig('customer_distribution.png')\n",
    "print(\"그래프가 'customer_distribution.png' 파일로 저장되었습니다.\")"
   ]
  },
  {
   "cell_type": "markdown",
   "id": "5ca5062d",
   "metadata": {},
   "source": [
    "절대고객수는 상파울로우가 높다 "
   ]
  },
  {
   "cell_type": "markdown",
   "id": "d377d40c",
   "metadata": {},
   "source": [
    "# 침투율(다른전략적옵션)"
   ]
  },
  {
   "cell_type": "code",
   "execution_count": 77,
   "id": "783b8006",
   "metadata": {},
   "outputs": [
    {
     "name": "stderr",
     "output_type": "stream",
     "text": [
      "C:\\Users\\Public\\Documents\\ESTsoft\\CreatorTemp\\ipykernel_5904\\3465986682.py:16: FutureWarning: \n",
      "\n",
      "Passing `palette` without assigning `hue` is deprecated and will be removed in v0.14.0. Assign the `x` variable to `hue` and set `legend=False` for the same effect.\n",
      "\n",
      "  sns.barplot(x=top_10['city'], y=top_10['penetration_rate'], palette=colors)\n",
      "C:\\Users\\Public\\Documents\\ESTsoft\\CreatorTemp\\ipykernel_5904\\3465986682.py:21: UserWarning: Glyph 46020 (\\N{HANGUL SYLLABLE DO}) missing from font(s) DejaVu Sans.\n",
      "  plt.tight_layout()\n",
      "C:\\Users\\Public\\Documents\\ESTsoft\\CreatorTemp\\ipykernel_5904\\3465986682.py:21: UserWarning: Glyph 49884 (\\N{HANGUL SYLLABLE SI}) missing from font(s) DejaVu Sans.\n",
      "  plt.tight_layout()\n",
      "C:\\Users\\Public\\Documents\\ESTsoft\\CreatorTemp\\ipykernel_5904\\3465986682.py:21: UserWarning: Glyph 44256 (\\N{HANGUL SYLLABLE GO}) missing from font(s) DejaVu Sans.\n",
      "  plt.tight_layout()\n",
      "C:\\Users\\Public\\Documents\\ESTsoft\\CreatorTemp\\ipykernel_5904\\3465986682.py:21: UserWarning: Glyph 44061 (\\N{HANGUL SYLLABLE GAEG}) missing from font(s) DejaVu Sans.\n",
      "  plt.tight_layout()\n",
      "C:\\Users\\Public\\Documents\\ESTsoft\\CreatorTemp\\ipykernel_5904\\3465986682.py:21: UserWarning: Glyph 52840 (\\N{HANGUL SYLLABLE CIM}) missing from font(s) DejaVu Sans.\n",
      "  plt.tight_layout()\n",
      "C:\\Users\\Public\\Documents\\ESTsoft\\CreatorTemp\\ipykernel_5904\\3465986682.py:21: UserWarning: Glyph 53804 (\\N{HANGUL SYLLABLE TU}) missing from font(s) DejaVu Sans.\n",
      "  plt.tight_layout()\n",
      "C:\\Users\\Public\\Documents\\ESTsoft\\CreatorTemp\\ipykernel_5904\\3465986682.py:21: UserWarning: Glyph 50984 (\\N{HANGUL SYLLABLE YUL}) missing from font(s) DejaVu Sans.\n",
      "  plt.tight_layout()\n",
      "C:\\Users\\Public\\Documents\\ESTsoft\\CreatorTemp\\ipykernel_5904\\3465986682.py:21: UserWarning: Glyph 49345 (\\N{HANGUL SYLLABLE SANG}) missing from font(s) DejaVu Sans.\n",
      "  plt.tight_layout()\n",
      "C:\\Users\\Public\\Documents\\ESTsoft\\CreatorTemp\\ipykernel_5904\\3465986682.py:21: UserWarning: Glyph 50948 (\\N{HANGUL SYLLABLE WI}) missing from font(s) DejaVu Sans.\n",
      "  plt.tight_layout()\n",
      "C:\\Users\\Public\\Documents\\ESTsoft\\CreatorTemp\\ipykernel_5904\\3465986682.py:21: UserWarning: Glyph 44060 (\\N{HANGUL SYLLABLE GAE}) missing from font(s) DejaVu Sans.\n",
      "  plt.tight_layout()\n",
      "C:\\Users\\Public\\Documents\\ESTsoft\\CreatorTemp\\ipykernel_5904\\3465986682.py:21: UserWarning: Glyph 48324 (\\N{HANGUL SYLLABLE BYEOL}) missing from font(s) DejaVu Sans.\n",
      "  plt.tight_layout()\n",
      "c:\\Users\\User\\pjt-data-analysis\\venv\\Lib\\site-packages\\IPython\\core\\pylabtools.py:170: UserWarning: Glyph 44256 (\\N{HANGUL SYLLABLE GO}) missing from font(s) DejaVu Sans.\n",
      "  fig.canvas.print_figure(bytes_io, **kw)\n",
      "c:\\Users\\User\\pjt-data-analysis\\venv\\Lib\\site-packages\\IPython\\core\\pylabtools.py:170: UserWarning: Glyph 44061 (\\N{HANGUL SYLLABLE GAEG}) missing from font(s) DejaVu Sans.\n",
      "  fig.canvas.print_figure(bytes_io, **kw)\n",
      "c:\\Users\\User\\pjt-data-analysis\\venv\\Lib\\site-packages\\IPython\\core\\pylabtools.py:170: UserWarning: Glyph 52840 (\\N{HANGUL SYLLABLE CIM}) missing from font(s) DejaVu Sans.\n",
      "  fig.canvas.print_figure(bytes_io, **kw)\n",
      "c:\\Users\\User\\pjt-data-analysis\\venv\\Lib\\site-packages\\IPython\\core\\pylabtools.py:170: UserWarning: Glyph 53804 (\\N{HANGUL SYLLABLE TU}) missing from font(s) DejaVu Sans.\n",
      "  fig.canvas.print_figure(bytes_io, **kw)\n",
      "c:\\Users\\User\\pjt-data-analysis\\venv\\Lib\\site-packages\\IPython\\core\\pylabtools.py:170: UserWarning: Glyph 50984 (\\N{HANGUL SYLLABLE YUL}) missing from font(s) DejaVu Sans.\n",
      "  fig.canvas.print_figure(bytes_io, **kw)\n",
      "c:\\Users\\User\\pjt-data-analysis\\venv\\Lib\\site-packages\\IPython\\core\\pylabtools.py:170: UserWarning: Glyph 49345 (\\N{HANGUL SYLLABLE SANG}) missing from font(s) DejaVu Sans.\n",
      "  fig.canvas.print_figure(bytes_io, **kw)\n",
      "c:\\Users\\User\\pjt-data-analysis\\venv\\Lib\\site-packages\\IPython\\core\\pylabtools.py:170: UserWarning: Glyph 50948 (\\N{HANGUL SYLLABLE WI}) missing from font(s) DejaVu Sans.\n",
      "  fig.canvas.print_figure(bytes_io, **kw)\n",
      "c:\\Users\\User\\pjt-data-analysis\\venv\\Lib\\site-packages\\IPython\\core\\pylabtools.py:170: UserWarning: Glyph 44060 (\\N{HANGUL SYLLABLE GAE}) missing from font(s) DejaVu Sans.\n",
      "  fig.canvas.print_figure(bytes_io, **kw)\n",
      "c:\\Users\\User\\pjt-data-analysis\\venv\\Lib\\site-packages\\IPython\\core\\pylabtools.py:170: UserWarning: Glyph 46020 (\\N{HANGUL SYLLABLE DO}) missing from font(s) DejaVu Sans.\n",
      "  fig.canvas.print_figure(bytes_io, **kw)\n",
      "c:\\Users\\User\\pjt-data-analysis\\venv\\Lib\\site-packages\\IPython\\core\\pylabtools.py:170: UserWarning: Glyph 49884 (\\N{HANGUL SYLLABLE SI}) missing from font(s) DejaVu Sans.\n",
      "  fig.canvas.print_figure(bytes_io, **kw)\n",
      "c:\\Users\\User\\pjt-data-analysis\\venv\\Lib\\site-packages\\IPython\\core\\pylabtools.py:170: UserWarning: Glyph 48324 (\\N{HANGUL SYLLABLE BYEOL}) missing from font(s) DejaVu Sans.\n",
      "  fig.canvas.print_figure(bytes_io, **kw)\n"
     ]
    },
    {
     "data": {
      "image/png": "[encoded data removed]",
      "text/plain": [
       "<Figure size 1200x600 with 1 Axes>"
      ]
     },
     "metadata": {},
     "output_type": "display_data"
    },
    {
     "name": "stdout",
     "output_type": "stream",
     "text": [
      "                     city  customer_count  population  \\\n",
      "10                niteroi             849    481749.0   \n",
      "13                 santos             713    418608.0   \n",
      "24                barueri             433    316473.0   \n",
      "0               sao paulo           15540  11451999.0   \n",
      "20                jundiai             565    443221.0   \n",
      "5                campinas            1444   1139047.0   \n",
      "2          belo horizonte            2773   2315560.0   \n",
      "9   sao bernardo do campo             938    810729.0   \n",
      "1          rio de janeiro            6882   6211223.0   \n",
      "11            santo andre             797    748919.0   \n",
      "\n",
      "    customer_penetration_rate  penetration_rate  \n",
      "10                   0.176233          0.017623  \n",
      "13                   0.170326          0.017033  \n",
      "24                   0.136821          0.013682  \n",
      "0                    0.135697          0.013570  \n",
      "20                   0.127476          0.012748  \n",
      "5                    0.126773          0.012677  \n",
      "2                    0.119755          0.011976  \n",
      "9                    0.115698          0.011570  \n",
      "1                    0.110799          0.011080  \n",
      "11                   0.106420          0.010642  \n"
     ]
    }
   ],
   "source": [
    "# ...existing code...\n",
    "import matplotlib.pyplot as plt\n",
    "import seaborn as sns\n",
    "\n",
    "# penetration_rate 컬럼명 일치 확인\n",
    "if 'penetration_rate' not in analysis_df_sorted.columns and 'customer_penetration_rate' in analysis_df_sorted.columns:\n",
    "    analysis_df_sorted['penetration_rate'] = analysis_df_sorted['customer_penetration_rate']\n",
    "\n",
    "# 상위 10개 도시만 추출\n",
    "top_10 = analysis_df_sorted.head(10)\n",
    "\n",
    "# 색상 리스트 생성: 상파울루만 빨간색, 나머지는 파란색\n",
    "colors = ['red' if city == 'niteroi' else 'grey' for city in top_10['city']]\n",
    "\n",
    "plt.figure(figsize=(12, 6))\n",
    "sns.barplot(x=top_10['city'], y=top_10['penetration_rate'], palette=colors)\n",
    "plt.title('상위 10개 도시별 고객 침투율 (%)')\n",
    "plt.xlabel('도시')\n",
    "plt.ylabel('고객 침투율 (%)')\n",
    "plt.xticks(rotation=45, ha='right')\n",
    "plt.tight_layout()\n",
    "plt.show()\n",
    "\n",
    "print(top_10)\n",
    "# ...existing code..."
   ]
  },
  {
   "cell_type": "markdown",
   "id": "11eb58bb",
   "metadata": {},
   "source": [
    "침투율을 비교했을때는 niteroi 의 풀이 크다는걸 알수있다 즉 단기효율/ROI중심 이면 Niteroi 규모확장/신규확장은  상파울로우를 택하는게 좋을거같다"
   ]
  },
  {
   "cell_type": "markdown",
   "id": "ebec156a",
   "metadata": {},
   "source": [
    "하지만 저는 상파울로우 의 집중해서 접근하겠습니다"
   ]
  },
  {
   "cell_type": "code",
   "execution_count": 14,
   "id": "12c20f94",
   "metadata": {},
   "outputs": [
    {
     "name": "stdout",
     "output_type": "stream",
     "text": [
      "customer_city\n",
      "sao paulo                15540\n",
      "rio de janeiro            6882\n",
      "belo horizonte            2773\n",
      "brasilia                  2131\n",
      "curitiba                  1521\n",
      "campinas                  1444\n",
      "porto alegre              1379\n",
      "salvador                  1245\n",
      "guarulhos                 1189\n",
      "sao bernardo do campo      938\n"
     ]
    }
   ],
   "source": [
    "# 'customer_city' 컬럼을 기준으로 그룹화하고, 각 그룹의 크기를 계산합니다.\n",
    "city_counts = df.groupby('customer_city').size()\n",
    "\n",
    "# 결과를 내림차순으로 정렬하여 고객 수가 많은 도시부터 확인합니다.\n",
    "sorted_city_counts = city_counts.sort_values(ascending=False)\n",
    "\n",
    "# 상위 10개 도시의 고객 수를 표로 출력\n",
    "print(sorted_city_counts.head(10).to_string())"
   ]
  },
  {
   "cell_type": "markdown",
   "id": "b6cb0434",
   "metadata": {},
   "source": [
    "# 외부데이터 분석 인구도시 (IBGE)\n",
    "쌍파울로우 가 인구가 높아서 높은건가 그걸알기위해 상위도시를 분석하자\n",
    "\n",
    "그것을 통해 진짜 쌍파울로우가 침투공략하기 좋은지를 보기위해"
   ]
  },
  {
   "cell_type": "code",
   "execution_count": 16,
   "id": "620188bc",
   "metadata": {},
   "outputs": [
    {
     "name": "stdout",
     "output_type": "stream",
     "text": [
      "                     city  customer_count  population  customer_penetration_rate\n",
      "10                niteroi             849    481749.0                   0.176233\n",
      "13                 santos             713    418608.0                   0.170326\n",
      "24                barueri             433    316473.0                   0.136821\n",
      "0               sao paulo           15540  11451999.0                   0.135697\n",
      "20                jundiai             565    443221.0                   0.127476\n",
      "5                campinas            1444   1139047.0                   0.126773\n",
      "2          belo horizonte            2773   2315560.0                   0.119755\n",
      "9   sao bernardo do campo             938    810729.0                   0.115698\n",
      "1          rio de janeiro            6882   6211223.0                   0.110799\n",
      "11            santo andre             797    748919.0                   0.106420\n",
      "19          florianopolis             570    537211.0                   0.106104\n",
      "6            porto alegre            1379   1332845.0                   0.103463\n",
      "12                 osasco             746    728615.0                   0.102386\n",
      "15    sao jose dos campos             691    697054.0                   0.099131\n",
      "8               guarulhos            1189   1291771.0                   0.092044\n",
      "17               sorocaba             633    723682.0                   0.087469\n",
      "4                curitiba            1521   1773718.0                   0.085752\n",
      "28        mogi das cruzes             383    451505.0                   0.084827\n",
      "3                brasilia            2131   2817381.0                   0.075638\n",
      "21         ribeirao preto             510    698642.0                   0.072999\n",
      "7                salvador            1245   2417678.0                   0.051496\n",
      "14                goiania             692   1437366.0                   0.048144\n",
      "18                 recife             613   1488920.0                   0.041171\n",
      "22                  belem             447   1303403.0                   0.034295\n",
      "16              fortaleza             654   2428708.0                   0.026928\n"
     ]
    }
   ],
   "source": [
    "import pandas as pd\n",
    "\n",
    "# 1. 고객 데이터 로드 및 도시별 고객 수 집계\n",
    "# 실제 olist_customers_dataset.csv 파일을 로드합니다.\n",
    "df_customers = pd.read_csv('olist_customers_dataset.csv')\n",
    "\n",
    "# 고객 도시 이름 전처리 (소문자, 공백 제거 등)\n",
    "df_customers['customer_city'] = df_customers['customer_city'].str.lower().str.strip()\n",
    "\n",
    "# 도시별 고객 수 집계 (상위 30개만 분석 대상)\n",
    "city_customer_counts = df_customers['customer_city'].value_counts().head(30)\n",
    "\n",
    "# 2. 제공된 인구 데이터를 딕셔너리로 변환\n",
    "population_data = {\n",
    "    'sao paulo': 11451999, 'rio de janeiro': 6211223, 'brasilia': 2817381,\n",
    "    'fortaleza': 2428708, 'salvador': 2417678, 'belo horizonte': 2315560,\n",
    "    'manaus': 2063689, 'curitiba': 1773718, 'recife': 1488920,\n",
    "    'goiania': 1437366, 'porto alegre': 1332845, 'belem': 1303403,\n",
    "    'guarulhos': 1291771, 'campinas': 1139047, 'sao luis': 1037775,\n",
    "    'maceio': 957916, 'campo grande': 898100, 'teresina': 866300,\n",
    "    'joao pessoa': 833932, 'sao bernardo do campo': 810729,\n",
    "    'duque de caxias': 808161, 'natal': 751300, 'santo andre': 748919,\n",
    "    'osasco': 728615, 'sorocaba': 723682, 'uberlandia': 713224,\n",
    "    'ribeirao preto': 698642, 'sao jose dos campos': 697054,\n",
    "    'cuiaba': 650877, 'aracaju': 602757, 'florianopolis': 537211,\n",
    "    'niteroi': 481749, 'sao jose do rio preto': 480393,\n",
    "    'vila velha': 467722, 'porto velho': 460434, 'mogi das cruzes': 451505,\n",
    "    'jundiai': 443221, 'macapa': 442933, 'campina grande': 419379,\n",
    "    'santos': 418608, 'maua': 418261, 'boa vista': 413486,\n",
    "    'anapolis': 398869, 'diadema': 393237, 'carapicuiba': 386984,\n",
    "    'bauru': 379146, 'itaquaquecetuba': 369275, 'rio branco': 364756,\n",
    "    'blumenau': 361261, 'franca': 352536, 'praia grande': 349935,\n",
    "    'uberaba': 337836, 'sao vicente': 329911, 'barueri': 316473,\n",
    "    'taubate': 310739, 'palmas': 302692, 'limeira': 291869,\n",
    "    'guaruja': 287634, 'foz do iguacu': 285415, 'sumare': 279545,\n",
    "    'petropolis': 278881, 'cotia': 274413, 'taboao da serra': 273542,\n",
    "    'maraba': 266533, 'indaiatuba': 255748, 'sao carlos': 254857,\n",
    "    'embudas artes': 250691, 'araraquara': 242228, 'jacarei': 240275,\n",
    "    'marilia': 237627, 'americana': 237240, 'hortolandia': 236641,\n",
    "    'itapevi': 232297, 'presidente prudente': 225668, 'cabo frio': 222161,\n",
    "    'cabo de santo agostinho': 203440, 'sobral': 203023, 'rio claro': 201418,\n",
    "    'aracatuba': 200124, 'cachoeiro de itapemirim': 185786,\n",
    "    'santa barbara d oeste': 183347, 'ferraz de vasconcelos': 179198,\n",
    "    'braganca paulista': 176811, 'itu': 168240, 'sao caetano do sul': 165655,\n",
    "    'pindamonhangaba': 165428, 'francisco morato': 165139,\n",
    "    'lages': 164981, 'patos de minas': 159235, 'atibaia': 158647,\n",
    "    'itapecerica da serra': 158522, 'itapetininga': 157790,\n",
    "    'santana de parnaiba': 154105, 'mogi guacu': 153658,\n",
    "    'botucatu': 145155, 'franco da rocha': 144849,\n",
    "    'caraguatatuba': 134873, 'salto': 134319, 'jau': 133497,\n",
    "    'santa cruz do sul': 133230\n",
    "}\n",
    "\n",
    "# 3. 고객 수와 인구 데이터를 합치기 위한 DataFrame 생성\n",
    "analysis_df = pd.DataFrame(city_customer_counts).reset_index()\n",
    "analysis_df.columns = ['city', 'customer_count']\n",
    "\n",
    "# 4. 인구 데이터를 맵핑하여 새로운 'population' 컬럼 추가\n",
    "analysis_df['population'] = analysis_df['city'].map(population_data)\n",
    "\n",
    "# 5. 고객 침투율 계산 (인구수가 있는 도시만)\n",
    "analysis_df['customer_penetration_rate'] = (analysis_df['customer_count'] / analysis_df['population']) * 100\n",
    "\n",
    "# 6. 인구수가 없는 도시는 제거하고, 침투율 기준으로 내림차순 정렬\n",
    "analysis_df = analysis_df.dropna(subset=['population'])\n",
    "analysis_df_sorted = analysis_df.sort_values(by='customer_penetration_rate', ascending=False)\n",
    "\n",
    "# 7. 최종 결과 출력\n",
    "print(analysis_df_sorted.to_string())"
   ]
  },
  {
   "cell_type": "markdown",
   "id": "a4d9c574",
   "metadata": {},
   "source": [
    "그래서 쌍파울로우 가 침투력있는가?\n",
    "# 분석결과\n",
    "상파울루는 고객 수도, 침투율은 낮다 : sao paulo의 고객 침투율은 0.135%로, 여전히 높은 편에 속합니다. 이는 단순히 인구만 많은 것이 아니라, 인구 대비 우리 서비스의 고객 비중도 높다는 것을 의미합니다.\n",
    "\n",
    "'sao bernardo do campo'의 놀라운 침투율: sao bernardo do campo는 인구는 적지만, 고객 침투율이 0.115%로 상파울루와 비슷한 수준을 보입니다. 이는 이 지역이 인구 규모에 비해 우리 서비스에 대한 관심이 매우 높거나, 특정 마케팅 전략이 효과적으로 작동했을 가능성을 시사합니다.\n",
    "\n",
    "상대적 효율성 파악: 이처럼 절대적인 고객 수만 보는 것이 아니라, 인구 대비 침투율을 함께 보면 어떤 시장이 더 효율적인지, 어떤 시장이 더 성장 잠재력이 큰지 객관적으로 파악할 수 있습니다.\n",
    "\n",
    "결론: 상파울루의 고객 수가 많은 이유는 인구 규모가 크고, 동시에 시장 침투율도 높기 때문입니다. 그리고 'sao bernardo do campo' 같은 도시들은 숨겨진 잠재력을 가진 시장이 될 수 있습니다."
   ]
  },
  {
   "cell_type": "markdown",
   "id": "0983eaae",
   "metadata": {},
   "source": [
    "# 그 근거 는  무엇인지  상파울로우 중 어디가 가장 고객이 많고 지리적 환경 은 무엇이있을까? \n"
   ]
  },
  {
   "cell_type": "code",
   "execution_count": null,
   "id": "7ea63808",
   "metadata": {},
   "outputs": [
    {
     "name": "stdout",
     "output_type": "stream",
     "text": [
      "      customer_city  customer_zip_code_prefix  customer_count\n",
      "13655     sao paulo                      8290              36\n",
      "12444     sao paulo                      4140              35\n",
      "13142     sao paulo                      5145              33\n",
      "12625     sao paulo                      4363              32\n",
      "12761     sao paulo                      4571              32\n",
      "13499     sao paulo                      5782              31\n",
      "12086     sao paulo                      3572              31\n",
      "13047     sao paulo                      5017              30\n",
      "11034     sao paulo                      1415              29\n",
      "10993     sao paulo                      1307              29\n"
     ]
    }
   ],
   "source": [
    "# ...existing code...\n",
    "# 우편번호와 도시별 고객 수 집계\n",
    "zip_city_group = df.groupby(['customer_city', 'customer_zip_code_prefix']).size().reset_index(name='customer_count')\n",
    "\n",
    "# 상파울루만 필터링\n",
    "sp_zip_city_group = zip_city_group[zip_city_group['customer_city'] == 'sao paulo']\n",
    "\n",
    "# 고객 수가 많은 상위 10개 우편번호 출력 (도시명 포함)\n",
    "top_sp_zip_city = sp_zip_city_group.sort_values(by='customer_count', ascending=False).head(10)\n",
    "print(top_sp_zip_city)\n",
    "# ...existing code..."
   ]
  },
  {
   "cell_type": "markdown",
   "id": "cf42b9ed",
   "metadata": {},
   "source": [
    "  우편번호 08290  으로 시작하는게 Itaquera  임을 알수있다. "
   ]
  },
  {
   "cell_type": "code",
   "execution_count": 73,
   "id": "e031bb06",
   "metadata": {},
   "outputs": [
    {
     "name": "stderr",
     "output_type": "stream",
     "text": [
      "C:\\Users\\Public\\Documents\\ESTsoft\\CreatorTemp\\ipykernel_5904\\3507880681.py:17: UserWarning: Glyph 51064 (\\N{HANGUL SYLLABLE IN}) missing from font(s) DejaVu Sans.\n",
      "  plt.tight_layout()\n",
      "C:\\Users\\Public\\Documents\\ESTsoft\\CreatorTemp\\ipykernel_5904\\3507880681.py:17: UserWarning: Glyph 44396 (\\N{HANGUL SYLLABLE GU}) missing from font(s) DejaVu Sans.\n",
      "  plt.tight_layout()\n",
      "C:\\Users\\Public\\Documents\\ESTsoft\\CreatorTemp\\ipykernel_5904\\3507880681.py:17: UserWarning: Glyph 47749 (\\N{HANGUL SYLLABLE MYEONG}) missing from font(s) DejaVu Sans.\n",
      "  plt.tight_layout()\n",
      "C:\\Users\\Public\\Documents\\ESTsoft\\CreatorTemp\\ipykernel_5904\\3507880681.py:17: UserWarning: Glyph 51648 (\\N{HANGUL SYLLABLE JI}) missing from font(s) DejaVu Sans.\n",
      "  plt.tight_layout()\n",
      "C:\\Users\\Public\\Documents\\ESTsoft\\CreatorTemp\\ipykernel_5904\\3507880681.py:17: UserWarning: Glyph 50669 (\\N{HANGUL SYLLABLE YEOG}) missing from font(s) DejaVu Sans.\n",
      "  plt.tight_layout()\n",
      "C:\\Users\\Public\\Documents\\ESTsoft\\CreatorTemp\\ipykernel_5904\\3507880681.py:17: UserWarning: Glyph 48320 (\\N{HANGUL SYLLABLE BYEON}) missing from font(s) DejaVu Sans.\n",
      "  plt.tight_layout()\n",
      "C:\\Users\\Public\\Documents\\ESTsoft\\CreatorTemp\\ipykernel_5904\\3507880681.py:17: UserWarning: Glyph 54868 (\\N{HANGUL SYLLABLE HWA}) missing from font(s) DejaVu Sans.\n",
      "  plt.tight_layout()\n",
      "c:\\Users\\User\\pjt-data-analysis\\venv\\Lib\\site-packages\\IPython\\core\\pylabtools.py:170: UserWarning: Glyph 47749 (\\N{HANGUL SYLLABLE MYEONG}) missing from font(s) DejaVu Sans.\n",
      "  fig.canvas.print_figure(bytes_io, **kw)\n",
      "c:\\Users\\User\\pjt-data-analysis\\venv\\Lib\\site-packages\\IPython\\core\\pylabtools.py:170: UserWarning: Glyph 51648 (\\N{HANGUL SYLLABLE JI}) missing from font(s) DejaVu Sans.\n",
      "  fig.canvas.print_figure(bytes_io, **kw)\n",
      "c:\\Users\\User\\pjt-data-analysis\\venv\\Lib\\site-packages\\IPython\\core\\pylabtools.py:170: UserWarning: Glyph 50669 (\\N{HANGUL SYLLABLE YEOG}) missing from font(s) DejaVu Sans.\n",
      "  fig.canvas.print_figure(bytes_io, **kw)\n",
      "c:\\Users\\User\\pjt-data-analysis\\venv\\Lib\\site-packages\\IPython\\core\\pylabtools.py:170: UserWarning: Glyph 51064 (\\N{HANGUL SYLLABLE IN}) missing from font(s) DejaVu Sans.\n",
      "  fig.canvas.print_figure(bytes_io, **kw)\n",
      "c:\\Users\\User\\pjt-data-analysis\\venv\\Lib\\site-packages\\IPython\\core\\pylabtools.py:170: UserWarning: Glyph 44396 (\\N{HANGUL SYLLABLE GU}) missing from font(s) DejaVu Sans.\n",
      "  fig.canvas.print_figure(bytes_io, **kw)\n",
      "c:\\Users\\User\\pjt-data-analysis\\venv\\Lib\\site-packages\\IPython\\core\\pylabtools.py:170: UserWarning: Glyph 48320 (\\N{HANGUL SYLLABLE BYEON}) missing from font(s) DejaVu Sans.\n",
      "  fig.canvas.print_figure(bytes_io, **kw)\n",
      "c:\\Users\\User\\pjt-data-analysis\\venv\\Lib\\site-packages\\IPython\\core\\pylabtools.py:170: UserWarning: Glyph 54868 (\\N{HANGUL SYLLABLE HWA}) missing from font(s) DejaVu Sans.\n",
      "  fig.canvas.print_figure(bytes_io, **kw)\n"
     ]
    },
    {
     "data": {
      "image/png": "[encoded data removed]",
      "text/plain": [
       "<Figure size 700x500 with 1 Axes>"
      ]
     },
     "metadata": {},
     "output_type": "display_data"
    }
   ],
   "source": [
    "# ...existing code...\n",
    "import matplotlib.pyplot as plt\n",
    "\n",
    "labels = ['2000 인구', '2010 인구','2022 인구']\n",
    "values = [201512, 204871,210960]\n",
    "\n",
    "plt.figure(figsize=(7,5))\n",
    "bars = plt.bar(labels, values, color=['blue', 'red'])\n",
    "plt.title('Itaquera 지역 인구 변화')\n",
    "plt.ylabel('명')\n",
    "plt.xticks(rotation=0)\n",
    "\n",
    " #값 표시\n",
    "for bar in bars:\n",
    "    plt.text(bar.get_x() + bar.get_width()/2, bar.get_height(), f'{int(bar.get_height()):,}', ha='center', va='bottom')\n",
    "\n",
    "plt.tight_layout()\n",
    "plt.show()\n",
    "# ...existing code..."
   ]
  },
  {
   "cell_type": "markdown",
   "id": "22ce54c9",
   "metadata": {},
   "source": [
    "2000년대비 2010년에 인구가 늘어났고 2022년도 마찬가지로 2010년대비 늘어났다   2010년 부터 2022년까지 연간 인구 변화율은 0.24% 이다 \n",
    "\n",
    "1. 안정적인 인구 성장과 높은 밀도\n",
    "인구 변화율 (0.24%): 2010년에서 2022년까지의 인구 증가율이 매우 낮습니다. 이는 이타케라가 급격히 성장하는 신도시가 아니라, 이미 발전이 완료되어 인구가 안정기에 접어든 성숙한 지역임을 시사한다.\n",
    "\n"
   ]
  },
  {
   "cell_type": "code",
   "execution_count": 50,
   "id": "981e1dda",
   "metadata": {},
   "outputs": [
    {
     "data": {
      "text/plain": [
       "customer_zip_code_prefix\n",
       "1003                      0c1a20644f0dc126c3eaff8dbc1bd12c\n",
       "1004     968f6d2f674977d88a4b445a5117ccd8095e7c124c5c1c...\n",
       "1005     9c84e5193d6ee59b3870e0e4e3a2dad857f0ea1c7f6b9e...\n",
       "1006     d2d4ae284fb74a5b0f0f8af418a64b3f0968690d0565e9...\n",
       "1007     aa1c9c908a46198cf8b8fdc5c80376886b0f5e8ef1a126...\n",
       "                               ...                        \n",
       "99960    e96373fff9632d363f5d96e6f169ef33344abd5603ff53...\n",
       "99965    ee0a41f3ec008b1459efbd99c775e6ea9fc089b0b6a8db...\n",
       "99970                     0528a0a940c7116ccb48fdbb8e80a8ff\n",
       "99980    e49eafd7e69d43b8d86f6b5590fafd023dbb390afed204...\n",
       "99990                     8f846b30f8f56368cd1bf4c89efeed74\n",
       "Name: customer_unique_id, Length: 14994, dtype: object"
      ]
     },
     "execution_count": 50,
     "metadata": {},
     "output_type": "execute_result"
    }
   ],
   "source": [
    "df.groupby('customer_zip_code_prefix')['customer_unique_id'].sum()"
   ]
  },
  {
   "cell_type": "markdown",
   "id": "9bd8893a",
   "metadata": {},
   "source": [
    "단순고객수-주문금액/재구매율 등과 연결해서 구해볼까? "
   ]
  },
  {
   "cell_type": "markdown",
   "id": "b5ac48d9",
   "metadata": {},
   "source": [
    "# 고객별 주문 횟수 "
   ]
  },
  {
   "cell_type": "code",
   "execution_count": 54,
   "id": "752962f5",
   "metadata": {},
   "outputs": [
    {
     "data": {
      "text/html": [
       "<div>\n",
       "<style scoped>\n",
       "    .dataframe tbody tr th:only-of-type {\n",
       "        vertical-align: middle;\n",
       "    }\n",
       "\n",
       "    .dataframe tbody tr th {\n",
       "        vertical-align: top;\n",
       "    }\n",
       "\n",
       "    .dataframe thead th {\n",
       "        text-align: right;\n",
       "    }\n",
       "</style>\n",
       "<table border=\"1\" class=\"dataframe\">\n",
       "  <thead>\n",
       "    <tr style=\"text-align: right;\">\n",
       "      <th></th>\n",
       "      <th>customer_unique_id</th>\n",
       "      <th>customer_id</th>\n",
       "    </tr>\n",
       "  </thead>\n",
       "  <tbody>\n",
       "    <tr>\n",
       "      <th>0</th>\n",
       "      <td>0000366f3b9a7992bf8c76cfdf3221e2</td>\n",
       "      <td>1</td>\n",
       "    </tr>\n",
       "    <tr>\n",
       "      <th>1</th>\n",
       "      <td>0000b849f77a49e4a4ce2b2a4ca5be3f</td>\n",
       "      <td>1</td>\n",
       "    </tr>\n",
       "    <tr>\n",
       "      <th>2</th>\n",
       "      <td>0000f46a3911fa3c0805444483337064</td>\n",
       "      <td>1</td>\n",
       "    </tr>\n",
       "    <tr>\n",
       "      <th>3</th>\n",
       "      <td>0000f6ccb0745a6a4b88665a16c9f078</td>\n",
       "      <td>1</td>\n",
       "    </tr>\n",
       "    <tr>\n",
       "      <th>4</th>\n",
       "      <td>0004aac84e0df4da2b147fca70cf8255</td>\n",
       "      <td>1</td>\n",
       "    </tr>\n",
       "  </tbody>\n",
       "</table>\n",
       "</div>"
      ],
      "text/plain": [
       "                 customer_unique_id  customer_id\n",
       "0  0000366f3b9a7992bf8c76cfdf3221e2            1\n",
       "1  0000b849f77a49e4a4ce2b2a4ca5be3f            1\n",
       "2  0000f46a3911fa3c0805444483337064            1\n",
       "3  0000f6ccb0745a6a4b88665a16c9f078            1\n",
       "4  0004aac84e0df4da2b147fca70cf8255            1"
      ]
     },
     "execution_count": 54,
     "metadata": {},
     "output_type": "execute_result"
    }
   ],
   "source": [
    "# 고객별 주문 횟수\n",
    "customer_orders = df.groupby('customer_unique_id')['customer_id'].nunique().reset_index()\n",
    "customer_orders.rename(columns={'order_id':'order_count'}, inplace=True)\n",
    "customer_orders.head()"
   ]
  },
  {
   "cell_type": "markdown",
   "id": "cb038003",
   "metadata": {},
   "source": [
    "이걸 살펴보면  한사람이 이만큼 주문한걸 알수있다. 그게끝이니 그게 시사하는게 뭔데 그것도 안적냐 근거가 부족ㅎ다 "
   ]
  },
  {
   "cell_type": "markdown",
   "id": "7c11604f",
   "metadata": {},
   "source": [
    "# 한계점"
   ]
  },
  {
   "cell_type": "markdown",
   "id": "5e051b80",
   "metadata": {},
   "source": [
    "근데 그다음 구매가격을 알고싶다 하지만 data.info( )를 해도 가격을 얼마나썼는지 어떤상품에 썼는지 알수없는 한계가있다. 왜 칼럼에 없으니깐 "
   ]
  },
  {
   "cell_type": "markdown",
   "id": "cab855b5",
   "metadata": {},
   "source": [
    "# 우회해서 생각하자 "
   ]
  },
  {
   "cell_type": "code",
   "execution_count": 60,
   "id": "0bd60a23",
   "metadata": {},
   "outputs": [],
   "source": [
    "import pandas as pd\n",
    "\n",
    "# 우편번호별 고객 수\n",
    "data = {\n",
    "    'zip_code': [8290, 4140, 5145, 4363, 4571, 5782, 3572, 5017, 1415, 1307],\n",
    "    'customer_count': [36, 35, 33, 32, 32, 31, 31, 30, 29, 29]\n",
    "}\n",
    "\n",
    "zip_df = pd.DataFrame(data)\n",
    "\n",
    "# 예시 인구수 (실제 데이터 필요)\n",
    "zip_population = {\n",
    "    8290: 220000,\n",
    "    4140: 50000,\n",
    "    5145: 60000,\n",
    "    4363: 40000,\n",
    "    4571: 35000,\n",
    "    5782: 30000,\n",
    "    3572: 30000,\n",
    "    5017: 25000,\n",
    "    1415: 20000,\n",
    "    1307: 20000\n",
    "}\n",
    "\n",
    "zip_df['population'] = zip_df['zip_code'].map(zip_population)\n"
   ]
  },
  {
   "cell_type": "markdown",
   "id": "39f1f311",
   "metadata": {},
   "source": [
    "인구대비 고객비율 계산"
   ]
  },
  {
   "cell_type": "code",
   "execution_count": 61,
   "id": "55674fbe",
   "metadata": {},
   "outputs": [
    {
     "data": {
      "text/html": [
       "<div>\n",
       "<style scoped>\n",
       "    .dataframe tbody tr th:only-of-type {\n",
       "        vertical-align: middle;\n",
       "    }\n",
       "\n",
       "    .dataframe tbody tr th {\n",
       "        vertical-align: top;\n",
       "    }\n",
       "\n",
       "    .dataframe thead th {\n",
       "        text-align: right;\n",
       "    }\n",
       "</style>\n",
       "<table border=\"1\" class=\"dataframe\">\n",
       "  <thead>\n",
       "    <tr style=\"text-align: right;\">\n",
       "      <th></th>\n",
       "      <th>zip_code</th>\n",
       "      <th>customer_count</th>\n",
       "      <th>population</th>\n",
       "      <th>customer_ratio</th>\n",
       "    </tr>\n",
       "  </thead>\n",
       "  <tbody>\n",
       "    <tr>\n",
       "      <th>9</th>\n",
       "      <td>1307</td>\n",
       "      <td>29</td>\n",
       "      <td>20000</td>\n",
       "      <td>0.001450</td>\n",
       "    </tr>\n",
       "    <tr>\n",
       "      <th>8</th>\n",
       "      <td>1415</td>\n",
       "      <td>29</td>\n",
       "      <td>20000</td>\n",
       "      <td>0.001450</td>\n",
       "    </tr>\n",
       "    <tr>\n",
       "      <th>7</th>\n",
       "      <td>5017</td>\n",
       "      <td>30</td>\n",
       "      <td>25000</td>\n",
       "      <td>0.001200</td>\n",
       "    </tr>\n",
       "    <tr>\n",
       "      <th>5</th>\n",
       "      <td>5782</td>\n",
       "      <td>31</td>\n",
       "      <td>30000</td>\n",
       "      <td>0.001033</td>\n",
       "    </tr>\n",
       "    <tr>\n",
       "      <th>6</th>\n",
       "      <td>3572</td>\n",
       "      <td>31</td>\n",
       "      <td>30000</td>\n",
       "      <td>0.001033</td>\n",
       "    </tr>\n",
       "    <tr>\n",
       "      <th>4</th>\n",
       "      <td>4571</td>\n",
       "      <td>32</td>\n",
       "      <td>35000</td>\n",
       "      <td>0.000914</td>\n",
       "    </tr>\n",
       "    <tr>\n",
       "      <th>3</th>\n",
       "      <td>4363</td>\n",
       "      <td>32</td>\n",
       "      <td>40000</td>\n",
       "      <td>0.000800</td>\n",
       "    </tr>\n",
       "    <tr>\n",
       "      <th>1</th>\n",
       "      <td>4140</td>\n",
       "      <td>35</td>\n",
       "      <td>50000</td>\n",
       "      <td>0.000700</td>\n",
       "    </tr>\n",
       "    <tr>\n",
       "      <th>2</th>\n",
       "      <td>5145</td>\n",
       "      <td>33</td>\n",
       "      <td>60000</td>\n",
       "      <td>0.000550</td>\n",
       "    </tr>\n",
       "    <tr>\n",
       "      <th>0</th>\n",
       "      <td>8290</td>\n",
       "      <td>36</td>\n",
       "      <td>220000</td>\n",
       "      <td>0.000164</td>\n",
       "    </tr>\n",
       "  </tbody>\n",
       "</table>\n",
       "</div>"
      ],
      "text/plain": [
       "   zip_code  customer_count  population  customer_ratio\n",
       "9      1307              29       20000        0.001450\n",
       "8      1415              29       20000        0.001450\n",
       "7      5017              30       25000        0.001200\n",
       "5      5782              31       30000        0.001033\n",
       "6      3572              31       30000        0.001033\n",
       "4      4571              32       35000        0.000914\n",
       "3      4363              32       40000        0.000800\n",
       "1      4140              35       50000        0.000700\n",
       "2      5145              33       60000        0.000550\n",
       "0      8290              36      220000        0.000164"
      ]
     },
     "execution_count": 61,
     "metadata": {},
     "output_type": "execute_result"
    }
   ],
   "source": [
    "zip_df['customer_ratio'] = zip_df['customer_count'] / zip_df['population']\n",
    "zip_df = zip_df.sort_values('customer_ratio', ascending=False)\n",
    "zip_df\n"
   ]
  },
  {
   "cell_type": "code",
   "execution_count": 74,
   "id": "b40bcecf",
   "metadata": {},
   "outputs": [
    {
     "data": {
      "text/plain": [
       "customer_zip_code_prefix\n",
       "22790    142\n",
       "24220    124\n",
       "22793    121\n",
       "24230    117\n",
       "22775    110\n",
       "Name: count, dtype: int64"
      ]
     },
     "execution_count": 74,
     "metadata": {},
     "output_type": "execute_result"
    }
   ],
   "source": [
    "# 'customer_zip_code_prefix' 열의 값 분포를 확인하고 상위 5개를 출력\n",
    "df['customer_zip_code_prefix'].value_counts().head()"
   ]
  },
  {
   "cell_type": "code",
   "execution_count": 75,
   "id": "95cb5867",
   "metadata": {},
   "outputs": [
    {
     "data": {
      "text/plain": [
       "array(['niteroi', 'rio de janeiro'], dtype=object)"
      ]
     },
     "execution_count": 75,
     "metadata": {},
     "output_type": "execute_result"
    }
   ],
   "source": [
    "# 상위 5개 우편번호 리스트 생성\n",
    "top_zips = df['customer_zip_code_prefix'].value_counts().head().index\n",
    "\n",
    "# 상위 우편번호에 해당하는 도시 이름 필터링 및 고유값 확인\n",
    "df[df['customer_zip_code_prefix'].isin(top_zips)]['customer_city'].unique()"
   ]
  },
  {
   "cell_type": "markdown",
   "id": "480d2a2d",
   "metadata": {},
   "source": [
    "알수있는점은 침투력이 높은 지역은 9130,8141,7501 등이있다.  지금 까지 도출한 결과 상파울로우는 인구수는 많지만 고객수는 적다는 걸 알수있다 반면 niteroi', 'rio de janeiro 침투력이 높다는걸 알수있다   즉 침투력 측면에서는 다소 상파울로우 가밀린다 하지만 간과할수없는 도시라 생각된다"
   ]
  },
  {
   "cell_type": "markdown",
   "id": "e379362f",
   "metadata": {},
   "source": [
    "# 시각화"
   ]
  },
  {
   "cell_type": "code",
   "execution_count": 65,
   "id": "219f1886",
   "metadata": {},
   "outputs": [
    {
     "data": {
      "image/png": "[encoded data removed]",
      "text/plain": [
       "<Figure size 1200x600 with 1 Axes>"
      ]
     },
     "metadata": {},
     "output_type": "display_data"
    }
   ],
   "source": [
    "\n",
    "\n",
    "plt.figure(figsize=(12,6))\n",
    "bars = plt.bar(zip_df['zip_code'].astype(str), zip_df['customer_ratio'], color='skyblue')\n",
    "plt.xlabel('Zip Code')\n",
    "plt.ylabel('Customer Ratio (Customers / Population)')\n",
    "plt.title('Customer Ratio by Zip Code in São Paulo')\n",
    "plt.ylim(0, zip_df['customer_ratio'].max() + 0.005)  # 여유 공간 확보\n",
    "\n",
    "for bar, region in zip(bars, zip_df['region']):\n",
    "    height = bar.get_height()\n",
    "    plt.text(bar.get_x() + bar.get_width()/2, height + 0.0005, region, \n",
    "             ha='center', va='bottom', fontsize=9, rotation=45)\n",
    "\n",
    "plt.show()\n"
   ]
  },
  {
   "cell_type": "markdown",
   "id": "a7a676e9",
   "metadata": {},
   "source": [
    "# 왜 itaquera가 적게 나오냐 ?"
   ]
  },
  {
   "cell_type": "markdown",
   "id": "8f35765b",
   "metadata": {},
   "source": [
    "다른우편번호에 비해 인구가 적어서 비율이 더 낮게 나온다 하지만 절대 고객수는 itaquera가 많다 ."
   ]
  },
  {
   "cell_type": "markdown",
   "id": "56a43fbf",
   "metadata": {},
   "source": [
    "# 절대 고객수로 분석한 결과 "
   ]
  },
  {
   "cell_type": "code",
   "execution_count": 67,
   "id": "09fabe95",
   "metadata": {},
   "outputs": [
    {
     "data": {
      "text/plain": [
       "Text(9.0, 0.0006636363636363636, 'Itaquera')"
      ]
     },
     "execution_count": 67,
     "metadata": {},
     "output_type": "execute_result"
    },
    {
     "data": {
      "image/png": "[encoded data removed]",
      "text/plain": [
       "<Figure size 640x480 with 1 Axes>"
      ]
     },
     "metadata": {},
     "output_type": "display_data"
    }
   ],
   "source": [
    "bars = plt.bar(zip_df['zip_code'].astype(str), zip_df['customer_count'], color='skyblue')\n",
    "plt.text(bar.get_x() + bar.get_width()/2, height + 0.0005, region, \n",
    "             ha='center', va='bottom', fontsize=9, rotation=45)\n",
    "\n"
   ]
  },
  {
   "cell_type": "markdown",
   "id": "0f3ba4e1",
   "metadata": {},
   "source": [
    "# 한계점 2 "
   ]
  },
  {
   "cell_type": "markdown",
   "id": "a64b79b6",
   "metadata": {},
   "source": [
    "여기서 한계점 실제 매출, 주문금액, 재구매율 데이터가 없으므로 왜 itaquera가 중요한지 , 얼마나 매출에 기여하는지  이런 결론으로 도출을 못하는 한계점이 있다."
   ]
  },
  {
   "cell_type": "markdown",
   "id": "15803a67",
   "metadata": {},
   "source": [
    "#  이런 이유로 도메인 지식 이 필요하다 "
   ]
  },
  {
   "cell_type": "markdown",
   "id": "a7460c4e",
   "metadata": {},
   "source": [
    "고객이 가장 많은 동네는 ITAQUERA 의  지리적환경및 인프라는 ? "
   ]
  },
  {
   "cell_type": "markdown",
   "id": "7bdf768d",
   "metadata": {},
   "source": [
    "이타케라(Itaquera) — 교통·인프라 요약\n",
    "\n",
    "도로망\n",
    "\n",
    "Avenida Jacu Pêssego/Nova Trabalhadores: 주요 간선도로, 산업·상업 연결 축.\n",
    "\n",
    "Avenida Radial Leste, Avenida Itaquera: 상파울루 동부 주요 연결 도로.\n",
    "\n",
    "Rua Augusto Carlos Baumann, Avenida dos Campanellas, Rua Virginia Ferni: Cohab 주거 지역과 주요 간선도로를 연결.\n",
    "\n",
    "고속도로 확장 계획: Jacu Pêssego 고속도로를 남쪽(산투스 항구, ABC 산업권) ↔ 북쪽(과룰류스) 까지 연결 예정.\n",
    "\n",
    "철도·지하철\n",
    "\n",
    "상파울루 지하철 3호선 (Red Line) → Corinthians-Itaquera 역.\n",
    "\n",
    "CPTM 11호선 (Expresso Leste, Coral Line) → Corinthians-Itaquera 역, Dom Bosco 역.\n",
    "\n",
    "도심 및 동부 산업 지역 접근 용이.\n",
    "\n",
    "버스\n",
    "\n",
    "2개 버스 터미널 보유 → 광역 교통 허브 기능.\n",
    "\n",
    "인프라\n",
    "\n",
    "Shopping Metrô Itaquera (지하철역 인접 상업 중심).\n",
    "\n",
    "Poupatempo 행정 서비스 센터 (주정부 다기능 행정기관).\n",
    "\n",
    "코린치안스 경기장 (2014년 월드컵 개최지).\n",
    "\n",
    "Planetário do Carmo (200석 규모 플라네타리움).\n",
    "\n",
    "Obra Social Dom Bosco (청소년 직업 훈련·복지 서비스).\n",
    "\n",
    "📌 이타케라의 지리적 환경\n",
    "\n",
    "하천·강\n",
    "\n",
    "Rio Jacu 강\n",
    "\n",
    "Rio Aricanduva 강\n",
    "→ 교통·개발 경계 및 자연적 구획 역할.\n",
    "\n",
    "주요 개발 지역\n",
    "\n",
    "Vila Carmosina: 계획 개발 주거지.\n",
    "\n",
    "Colônia Japonesa: 역사적 이민자 거주지.\n",
    "\n",
    "Jardim do Carmo, Parque do Carmo: 녹지·공원 중심 지역.\n",
    "\n",
    "인접 지역(경계 지구)\n",
    "\n",
    "북쪽: São Miguel Paulista, Vila Jacuí\n",
    "\n",
    "동쪽: Lajeado\n",
    "\n",
    "남동쪽: José Bonifácio\n",
    "\n",
    "남쪽: Cidade Líder, Parque do Carmo\n",
    "\n",
    "서쪽: Artur Alvim, Ponte Rasa\n",
    "\n",
    "✅ 정리하면, 이타케라의 강점은 교통 인프라(지하철·철도·고속도로) + 상업·행정 시설 + 대규모 경기장 및 쇼핑몰 + 공원·자연 환경이 결합된 교통·상업·주거 복합 중심지라는 점이다."
   ]
  },
  {
   "cell_type": "markdown",
   "id": "7dc9d621",
   "metadata": {},
   "source": [
    "# 이 인프라를 마케팅 관점에서 생각하면  :이타케라 마케팅 인사이트"
   ]
  },
  {
   "cell_type": "markdown",
   "id": "3acfa8a0",
   "metadata": {},
   "source": [
    "# 1. 교통·유동 인구 기반\n",
    "\n",
    "지하철 3호선 + CPTM 11호선 + 버스 터미널\n",
    "→ 대규모 통근·통학 유동인구 존재.\n",
    "\n",
    " 빠른 소비 아이템: 패스트푸드, 카페, 편의점, 테이크아웃 전문점.\n",
    "\n",
    " 교통 중심 광고: 지하철·버스 쉘터 광고, 옥외 전광판.\n",
    "\n",
    "Jacu Pêssego 고속도로 확장 예정\n",
    "→ 향후 물류·상업 교류 증가 예상.\n",
    "\n",
    "물류창고·배송 거점으로 적합 (이커머스, 택배사, B2B 유통업체).\n",
    "\n",
    "# 2. 상업·소비 중심지\n",
    "\n",
    "Shopping Metrô Itaquera (대형 쇼핑몰)\n",
    "\n",
    "중산층 소비 타겟: 패션, 전자제품, 프랜차이즈 레스토랑.\n",
    "\n",
    " 레저·가족형 콘텐츠: 영화관, 체험형 매장, 키즈존.\n",
    "\n",
    "Poupatempo 행정기관 (대규모 방문자 유입)\n",
    "\n",
    " 공공서비스 이용객 대상 생활편의 서비스 (식당, 은행, 보험, 학원).\n",
    "\n",
    "# 3. 스포츠·문화 자산\n",
    "\n",
    "코린치안스 경기장 (2014 월드컵 개최지)\n",
    "\n",
    " 경기·콘서트·이벤트 방문객 대상 숙박·외식·굿즈 판매.\n",
    "\n",
    " 브랜드 스폰서십·스포츠 마케팅 기회 큼.\n",
    "\n",
    "Planetário do Carmo, Parque do Carmo\n",
    "\n",
    " 여가·교육 콘텐츠 (체험학습, 과학관, 자연 친화 카페).\n",
    "\n",
    "웰니스·헬스케어 산업 (조깅, 피트니스, 헬시푸드).\n",
    "\n",
    "# 4. 주거·지역사회 특성\n",
    "\n",
    "대규모 주거 단지(Cohab) + 전통적 마을(Vila Carmosina, Colônia Japonesa)\n",
    "\n",
    " 지역 상권: 저가·중저가 생활필수품, 식료품, 할인점.\n",
    "\n",
    " 지역밀착형 마케팅: 소셜미디어 커뮤니티, 지역행사 협찬.\n",
    "\n",
    " Obra Social Dom Bosco (청소년 직업훈련)\n",
    "\n",
    " 교육·직업·디지털 기술 관련 업종: 온라인 교육, 자격증 과정, 스타트업 인큐베이션.\n",
    "\n",
    " 종합 포지셔닝\n",
    "\n",
    " 이타케라 = 동부 상파울루의 \"교통·상업·레저 복합 허브\"\n",
    "\n",
    "B2C 소매·외식업: 유동 인구 타겟팅 → 빠른 회전율 전략.\n",
    "\n",
    "B2B 물류·유통업: 도로망 확충 → 거점 확보.\n",
    "\n",
    "문화·스포츠 연계 산업: 경기장·공원·플라네타리움 활용.\n",
    "\n",
    "지역 커뮤니티 기반 서비스: 주거지 중심 → 교육, 생활편의 서비스.\n",
    "\n",
    " 정리하면, 교통 허브 + 쇼핑몰 + 경기장 + 공공기관이 결합된 이타케라는\n",
    "\n",
    "\"대량 소비 & 빠른 회전\" 업종,\n",
    "\n",
    "\"물류·유통 거점\" 산업,\n",
    "\n",
    "\"문화·스포츠 이벤트 기반 비즈니스\"가 가장 유리하다고 판단된다."
   ]
  }
 ],
 "metadata": {
  "kernelspec": {
   "display_name": "venv",
   "language": "python",
   "name": "python3"
  },
  "language_info": {
   "codemirror_mode": {
    "name": "ipython",
    "version": 3
   },
   "file_extension": ".py",
   "mimetype": "text/x-python",
   "name": "python",
   "nbconvert_exporter": "python",
   "pygments_lexer": "ipython3",
   "version": "3.13.2"
  }
 },
 "nbformat": 4,
 "nbformat_minor": 5
}
